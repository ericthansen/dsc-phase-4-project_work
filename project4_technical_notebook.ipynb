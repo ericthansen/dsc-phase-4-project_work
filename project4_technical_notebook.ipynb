{
 "cells": [
  {
   "cell_type": "markdown",
   "metadata": {},
   "source": [
    "# Project 4\n"
   ]
  },
  {
   "cell_type": "markdown",
   "metadata": {},
   "source": [
    "Classification/prediction of text reviews is a useful tool for many different fields and is a perfect application of Natural Language Processing (NLP) techniques within Machine Learning/Deep Learning.  \n",
    "\n",
    "In this case, we will attend to video game reviews on the Steam platform (a digital distribution service and storefront developed by Valve).  Launched in 2003, users are able to purchase and download games from Steam, as well as use their cloud storage to backup saved games for use across multiple devices.  As of March 29, 2022, Steam reports over 27 million concurrent users at peak logged in to their service, with over 120 million users total.   \n",
    "\n",
    "\n",
    "\n",
    "Currently, users are able to supply \"would recommend\"/\"would not recommend\" binary ratings, along with text reviews of games on Steam.  This provides us with a data set of labeled data from which to begin.\n",
    "\n",
    "Stakeholders in this process include (but aren't limited to)\n",
    "- Valve (or other digital distributors, e.g. Epic Games, Apple App Store, Google Play), \n",
    "- video game developers/publishers, \n",
    "- video game consumers (including reviewers, critics, players, streamers, etc.), \n",
    "- computer hardware manufacturers (knowledge about what games are popular could drive  video card architecture, e.g.)  \n",
    "- cultural linguists (due to the nuanced and specialized vernacular exhibited by video gaming communities).\n",
    "\n",
    "Business problems that such an investigation could illuminate include:\n",
    "- validation of new ratings (i.e. checking consistency between user text and user binary rating).  This could be helpful for several reasons.  \n",
    "    - Prompting users to double-check that they provided the intended binary rating, if their text review seems inconsistent.  \n",
    "    - Notifying Valve of potential abuse/manipulation of the rating system, in the event that users are repeatedly providing inconsistent rating/review combinations.  \n",
    "- automatically applying a binary rating to unlabeled reviews, which might be accessible, for example, from scrubbing the web for other game reviews.  \n",
    "\n",
    "- generating a more nuanced rating number for each review than just 0 or 1; this could be more representative when aggregating the reviews.  \n",
    "    - For example, a game which received three reviews, two that were just slightly negative and one very positive would receive binary scores of 0, 0, and 1, while receiving nuanced scores of .4, .4, and .9.  Another game could receive two very negative reviews and one slightly positive one and receive the same binary scores, (0, 0, 1) but receive different nuanced scores, .1, .1, and .6.  In aggregate, the binary system would rank these games the same, but would give a higher average nuanced rating to the former game.\n",
    "\n"
   ]
  },
  {
   "cell_type": "code",
   "execution_count": 1,
   "metadata": {},
   "outputs": [],
   "source": [
    "SINGLE_SOURCE = True"
   ]
  },
  {
   "cell_type": "code",
   "execution_count": 2,
   "metadata": {},
   "outputs": [],
   "source": [
    "import xgboost as xgb"
   ]
  },
  {
   "cell_type": "code",
   "execution_count": 3,
   "metadata": {},
   "outputs": [],
   "source": [
    "from xgboost import XGBClassifier"
   ]
  },
  {
   "cell_type": "code",
   "execution_count": 4,
   "metadata": {},
   "outputs": [
    {
     "name": "stderr",
     "output_type": "stream",
     "text": [
      "[nltk_data] Downloading package stopwords to\n",
      "[nltk_data]     C:\\Users\\Eric\\AppData\\Roaming\\nltk_data...\n",
      "[nltk_data]   Package stopwords is already up-to-date!\n",
      "[nltk_data] Downloading package punkt to\n",
      "[nltk_data]     C:\\Users\\Eric\\AppData\\Roaming\\nltk_data...\n",
      "[nltk_data]   Package punkt is already up-to-date!\n"
     ]
    },
    {
     "data": {
      "text/plain": [
       "True"
      ]
     },
     "execution_count": 4,
     "metadata": {},
     "output_type": "execute_result"
    }
   ],
   "source": [
    "import nltk\n",
    "nltk.download('stopwords')\n",
    "nltk.download('punkt')"
   ]
  },
  {
   "cell_type": "code",
   "execution_count": 5,
   "metadata": {},
   "outputs": [],
   "source": [
    "#Ensure to download spacy and the corresponding package\n",
    "# pip install -U spacy\n",
    "# python -m spacy download en_core_web_sm\n",
    "\n",
    "import spacy\n",
    "spacy_nlp = spacy.load('en_core_web_sm')"
   ]
  },
  {
   "cell_type": "code",
   "execution_count": 6,
   "metadata": {},
   "outputs": [],
   "source": [
    "import matplotlib.pyplot as plt \n",
    "import re \n",
    "#import spacy ##do we need this?\n",
    "import seaborn as sns \n",
    "\n",
    "import pandas as pd\n",
    "import numpy as np\n",
    "from collections import Counter\n",
    "\n",
    "#must ensure conda install py-xgboost\n",
    "#import xgboost as xgb\n",
    "from tqdm import tqdm\n",
    "from sklearn.svm import SVC\n",
    "from sklearn.metrics import log_loss, f1_score, accuracy_score\n",
    "from sklearn.metrics import roc_curve, roc_auc_score\n",
    "from keras.models import Sequential\n",
    "from keras.layers.recurrent import LSTM, GRU, SimpleRNN\n",
    "from keras.layers.core import Dense, Activation, Dropout\n",
    "from keras.layers.embeddings import Embedding\n",
    "from keras.layers.normalization import BatchNormalization\n",
    "from keras.utils import np_utils\n",
    "from sklearn import preprocessing, decomposition, model_selection, metrics, pipeline\n",
    "from sklearn.model_selection import GridSearchCV\n",
    "from sklearn.feature_extraction.text import TfidfVectorizer, CountVectorizer\n",
    "from sklearn.decomposition import TruncatedSVD\n",
    "from sklearn.linear_model import LogisticRegression\n",
    "from sklearn.model_selection import train_test_split\n",
    "\n",
    "from sklearn.naive_bayes import MultinomialNB\n",
    "from keras.layers import GlobalMaxPooling1D, Conv1D, MaxPooling1D, Flatten, Bidirectional, SpatialDropout1D, RepeatVector\n",
    "from keras.preprocessing import sequence, text\n",
    "from keras.callbacks import EarlyStopping\n",
    "from nltk import word_tokenize\n",
    "from nltk.corpus import stopwords\n",
    "stop_words = stopwords.words('english')\n",
    "\n",
    "\n",
    "from nltk.stem import PorterStemmer\n",
    "from nltk.tokenize import sent_tokenize, word_tokenize\n",
    "\n",
    "from wordcloud import WordCloud\n",
    "import random"
   ]
  },
  {
   "cell_type": "markdown",
   "metadata": {},
   "source": [
    "Loading Data"
   ]
  },
  {
   "cell_type": "code",
   "execution_count": 7,
   "metadata": {},
   "outputs": [],
   "source": [
    "train_df = pd.read_csv('./data/train.csv')\n",
    "test_df = pd.read_csv('./data/test.csv')\n"
   ]
  },
  {
   "cell_type": "code",
   "execution_count": 7,
   "metadata": {},
   "outputs": [
    {
     "data": {
      "text/html": [
       "<div>\n",
       "<style scoped>\n",
       "    .dataframe tbody tr th:only-of-type {\n",
       "        vertical-align: middle;\n",
       "    }\n",
       "\n",
       "    .dataframe tbody tr th {\n",
       "        vertical-align: top;\n",
       "    }\n",
       "\n",
       "    .dataframe thead th {\n",
       "        text-align: right;\n",
       "    }\n",
       "</style>\n",
       "<table border=\"1\" class=\"dataframe\">\n",
       "  <thead>\n",
       "    <tr style=\"text-align: right;\">\n",
       "      <th></th>\n",
       "      <th>review_id</th>\n",
       "      <th>title</th>\n",
       "      <th>year</th>\n",
       "      <th>user_review</th>\n",
       "      <th>user_suggestion</th>\n",
       "    </tr>\n",
       "  </thead>\n",
       "  <tbody>\n",
       "    <tr>\n",
       "      <th>0</th>\n",
       "      <td>1</td>\n",
       "      <td>Spooky's Jump Scare Mansion</td>\n",
       "      <td>2016.0</td>\n",
       "      <td>I'm scared and hearing creepy voices.  So I'll...</td>\n",
       "      <td>1</td>\n",
       "    </tr>\n",
       "    <tr>\n",
       "      <th>1</th>\n",
       "      <td>2</td>\n",
       "      <td>Spooky's Jump Scare Mansion</td>\n",
       "      <td>2016.0</td>\n",
       "      <td>Best game, more better than Sam Pepper's YouTu...</td>\n",
       "      <td>1</td>\n",
       "    </tr>\n",
       "    <tr>\n",
       "      <th>2</th>\n",
       "      <td>3</td>\n",
       "      <td>Spooky's Jump Scare Mansion</td>\n",
       "      <td>2016.0</td>\n",
       "      <td>A littly iffy on the controls, but once you kn...</td>\n",
       "      <td>1</td>\n",
       "    </tr>\n",
       "    <tr>\n",
       "      <th>3</th>\n",
       "      <td>4</td>\n",
       "      <td>Spooky's Jump Scare Mansion</td>\n",
       "      <td>2015.0</td>\n",
       "      <td>Great game, fun and colorful and all that.A si...</td>\n",
       "      <td>1</td>\n",
       "    </tr>\n",
       "    <tr>\n",
       "      <th>4</th>\n",
       "      <td>5</td>\n",
       "      <td>Spooky's Jump Scare Mansion</td>\n",
       "      <td>2015.0</td>\n",
       "      <td>Not many games have the cute tag right next to...</td>\n",
       "      <td>1</td>\n",
       "    </tr>\n",
       "  </tbody>\n",
       "</table>\n",
       "</div>"
      ],
      "text/plain": [
       "   review_id                        title    year  \\\n",
       "0          1  Spooky's Jump Scare Mansion  2016.0   \n",
       "1          2  Spooky's Jump Scare Mansion  2016.0   \n",
       "2          3  Spooky's Jump Scare Mansion  2016.0   \n",
       "3          4  Spooky's Jump Scare Mansion  2015.0   \n",
       "4          5  Spooky's Jump Scare Mansion  2015.0   \n",
       "\n",
       "                                         user_review  user_suggestion  \n",
       "0  I'm scared and hearing creepy voices.  So I'll...                1  \n",
       "1  Best game, more better than Sam Pepper's YouTu...                1  \n",
       "2  A littly iffy on the controls, but once you kn...                1  \n",
       "3  Great game, fun and colorful and all that.A si...                1  \n",
       "4  Not many games have the cute tag right next to...                1  "
      ]
     },
     "execution_count": 7,
     "metadata": {},
     "output_type": "execute_result"
    }
   ],
   "source": [
    "train_df.head()"
   ]
  },
  {
   "cell_type": "code",
   "execution_count": 8,
   "metadata": {},
   "outputs": [
    {
     "data": {
      "text/html": [
       "<div>\n",
       "<style scoped>\n",
       "    .dataframe tbody tr th:only-of-type {\n",
       "        vertical-align: middle;\n",
       "    }\n",
       "\n",
       "    .dataframe tbody tr th {\n",
       "        vertical-align: top;\n",
       "    }\n",
       "\n",
       "    .dataframe thead th {\n",
       "        text-align: right;\n",
       "    }\n",
       "</style>\n",
       "<table border=\"1\" class=\"dataframe\">\n",
       "  <thead>\n",
       "    <tr style=\"text-align: right;\">\n",
       "      <th></th>\n",
       "      <th>review_id</th>\n",
       "      <th>title</th>\n",
       "      <th>year</th>\n",
       "      <th>user_review</th>\n",
       "    </tr>\n",
       "  </thead>\n",
       "  <tbody>\n",
       "    <tr>\n",
       "      <th>0</th>\n",
       "      <td>1603</td>\n",
       "      <td>Counter-Strike: Global Offensive</td>\n",
       "      <td>2015.0</td>\n",
       "      <td>Nice graphics, new maps, weapons and models. B...</td>\n",
       "    </tr>\n",
       "    <tr>\n",
       "      <th>1</th>\n",
       "      <td>1604</td>\n",
       "      <td>Counter-Strike: Global Offensive</td>\n",
       "      <td>2018.0</td>\n",
       "      <td>I would not recommend getting into this at its...</td>\n",
       "    </tr>\n",
       "    <tr>\n",
       "      <th>2</th>\n",
       "      <td>1605</td>\n",
       "      <td>Counter-Strike: Global Offensive</td>\n",
       "      <td>2018.0</td>\n",
       "      <td>Edit 11/12/18I have tried playing CS:GO recent...</td>\n",
       "    </tr>\n",
       "    <tr>\n",
       "      <th>3</th>\n",
       "      <td>1606</td>\n",
       "      <td>Counter-Strike: Global Offensive</td>\n",
       "      <td>2015.0</td>\n",
       "      <td>The game is great. But the community is the wo...</td>\n",
       "    </tr>\n",
       "    <tr>\n",
       "      <th>4</th>\n",
       "      <td>1607</td>\n",
       "      <td>Counter-Strike: Global Offensive</td>\n",
       "      <td>2015.0</td>\n",
       "      <td>I thank TrulyRazor for buying this for me a lo...</td>\n",
       "    </tr>\n",
       "  </tbody>\n",
       "</table>\n",
       "</div>"
      ],
      "text/plain": [
       "   review_id                             title    year  \\\n",
       "0       1603  Counter-Strike: Global Offensive  2015.0   \n",
       "1       1604  Counter-Strike: Global Offensive  2018.0   \n",
       "2       1605  Counter-Strike: Global Offensive  2018.0   \n",
       "3       1606  Counter-Strike: Global Offensive  2015.0   \n",
       "4       1607  Counter-Strike: Global Offensive  2015.0   \n",
       "\n",
       "                                         user_review  \n",
       "0  Nice graphics, new maps, weapons and models. B...  \n",
       "1  I would not recommend getting into this at its...  \n",
       "2  Edit 11/12/18I have tried playing CS:GO recent...  \n",
       "3  The game is great. But the community is the wo...  \n",
       "4  I thank TrulyRazor for buying this for me a lo...  "
      ]
     },
     "execution_count": 8,
     "metadata": {},
     "output_type": "execute_result"
    }
   ],
   "source": [
    "test_df.head()"
   ]
  },
  {
   "cell_type": "code",
   "execution_count": 9,
   "metadata": {},
   "outputs": [
    {
     "data": {
      "text/html": [
       "<div>\n",
       "<style scoped>\n",
       "    .dataframe tbody tr th:only-of-type {\n",
       "        vertical-align: middle;\n",
       "    }\n",
       "\n",
       "    .dataframe tbody tr th {\n",
       "        vertical-align: top;\n",
       "    }\n",
       "\n",
       "    .dataframe thead th {\n",
       "        text-align: right;\n",
       "    }\n",
       "</style>\n",
       "<table border=\"1\" class=\"dataframe\">\n",
       "  <thead>\n",
       "    <tr style=\"text-align: right;\">\n",
       "      <th></th>\n",
       "      <th>review_id</th>\n",
       "      <th>title</th>\n",
       "      <th>year</th>\n",
       "      <th>user_review</th>\n",
       "      <th>user_suggestion</th>\n",
       "    </tr>\n",
       "  </thead>\n",
       "  <tbody>\n",
       "    <tr>\n",
       "      <th>301</th>\n",
       "      <td>302</td>\n",
       "      <td>Spooky's Jump Scare Mansion</td>\n",
       "      <td>2015.0</td>\n",
       "      <td>Early Access ReviewThis is a smart little game...</td>\n",
       "      <td>1</td>\n",
       "    </tr>\n",
       "    <tr>\n",
       "      <th>9208</th>\n",
       "      <td>12218</td>\n",
       "      <td>PlanetSide 2</td>\n",
       "      <td>2015.0</td>\n",
       "      <td>*Static, sounds of gunfire, and artillery fire...</td>\n",
       "      <td>1</td>\n",
       "    </tr>\n",
       "    <tr>\n",
       "      <th>12034</th>\n",
       "      <td>17531</td>\n",
       "      <td>Bless Online</td>\n",
       "      <td>2018.0</td>\n",
       "      <td>Early Access Reviewthe game was fun at the beg...</td>\n",
       "      <td>0</td>\n",
       "    </tr>\n",
       "    <tr>\n",
       "      <th>9671</th>\n",
       "      <td>13255</td>\n",
       "      <td>Realm of the Mad God</td>\n",
       "      <td>2015.0</td>\n",
       "      <td>This game is really ♥♥♥♥ing fun and addicting ...</td>\n",
       "      <td>1</td>\n",
       "    </tr>\n",
       "    <tr>\n",
       "      <th>12660</th>\n",
       "      <td>18157</td>\n",
       "      <td>RaceRoom Racing Experience</td>\n",
       "      <td>2018.0</td>\n",
       "      <td>I've put a few laps down in this sim, and thro...</td>\n",
       "      <td>1</td>\n",
       "    </tr>\n",
       "  </tbody>\n",
       "</table>\n",
       "</div>"
      ],
      "text/plain": [
       "       review_id                        title    year  \\\n",
       "301          302  Spooky's Jump Scare Mansion  2015.0   \n",
       "9208       12218                 PlanetSide 2  2015.0   \n",
       "12034      17531                 Bless Online  2018.0   \n",
       "9671       13255         Realm of the Mad God  2015.0   \n",
       "12660      18157   RaceRoom Racing Experience  2018.0   \n",
       "\n",
       "                                             user_review  user_suggestion  \n",
       "301    Early Access ReviewThis is a smart little game...                1  \n",
       "9208   *Static, sounds of gunfire, and artillery fire...                1  \n",
       "12034  Early Access Reviewthe game was fun at the beg...                0  \n",
       "9671   This game is really ♥♥♥♥ing fun and addicting ...                1  \n",
       "12660  I've put a few laps down in this sim, and thro...                1  "
      ]
     },
     "execution_count": 9,
     "metadata": {},
     "output_type": "execute_result"
    }
   ],
   "source": [
    "train_df.sample(5)"
   ]
  },
  {
   "cell_type": "code",
   "execution_count": 10,
   "metadata": {},
   "outputs": [
    {
     "name": "stdout",
     "output_type": "stream",
     "text": [
      "<class 'pandas.core.frame.DataFrame'>\n",
      "RangeIndex: 17494 entries, 0 to 17493\n",
      "Data columns (total 5 columns):\n",
      " #   Column           Non-Null Count  Dtype  \n",
      "---  ------           --------------  -----  \n",
      " 0   review_id        17494 non-null  int64  \n",
      " 1   title            17494 non-null  object \n",
      " 2   year             17316 non-null  float64\n",
      " 3   user_review      17494 non-null  object \n",
      " 4   user_suggestion  17494 non-null  int64  \n",
      "dtypes: float64(1), int64(2), object(2)\n",
      "memory usage: 683.5+ KB\n"
     ]
    },
    {
     "data": {
      "text/plain": [
       "None"
      ]
     },
     "metadata": {},
     "output_type": "display_data"
    },
    {
     "name": "stdout",
     "output_type": "stream",
     "text": [
      "<class 'pandas.core.frame.DataFrame'>\n",
      "RangeIndex: 8045 entries, 0 to 8044\n",
      "Data columns (total 4 columns):\n",
      " #   Column       Non-Null Count  Dtype  \n",
      "---  ------       --------------  -----  \n",
      " 0   review_id    8045 non-null   int64  \n",
      " 1   title        8045 non-null   object \n",
      " 2   year         7978 non-null   float64\n",
      " 3   user_review  8045 non-null   object \n",
      "dtypes: float64(1), int64(1), object(2)\n",
      "memory usage: 251.5+ KB\n"
     ]
    },
    {
     "data": {
      "text/plain": [
       "None"
      ]
     },
     "metadata": {},
     "output_type": "display_data"
    }
   ],
   "source": [
    "display(train_df.info())\n",
    "display(test_df.info())"
   ]
  },
  {
   "cell_type": "code",
   "execution_count": 11,
   "metadata": {},
   "outputs": [
    {
     "data": {
      "text/plain": [
       "review_id            0\n",
       "title                0\n",
       "year               178\n",
       "user_review          0\n",
       "user_suggestion      0\n",
       "dtype: int64"
      ]
     },
     "metadata": {},
     "output_type": "display_data"
    },
    {
     "data": {
      "text/plain": [
       "review_id       0\n",
       "title           0\n",
       "year           67\n",
       "user_review     0\n",
       "dtype: int64"
      ]
     },
     "metadata": {},
     "output_type": "display_data"
    }
   ],
   "source": [
    "display(train_df.isna().sum())\n",
    "display(test_df.isna().sum())\n",
    "#year has some invalid entries, but we won't be using those."
   ]
  },
  {
   "cell_type": "code",
   "execution_count": 12,
   "metadata": {},
   "outputs": [
    {
     "data": {
      "text/plain": [
       "1    9968\n",
       "0    7526\n",
       "Name: user_suggestion, dtype: int64"
      ]
     },
     "execution_count": 12,
     "metadata": {},
     "output_type": "execute_result"
    }
   ],
   "source": [
    "#check distribution of value counts\n",
    "train_df['user_suggestion'].value_counts()\n",
    "#so there is a little imbalance, we could ignore it or rebalance by resampling.\n",
    "#see # https://www.analyticsvidhya.com/blog/2020/07/10-techniques-to-deal-with-class-imbalance-in-machine-learning/#:~:text=Class%20Imbalance%20is%20a%20common,Spam%20filtering"
   ]
  },
  {
   "cell_type": "code",
   "execution_count": 13,
   "metadata": {},
   "outputs": [
    {
     "data": {
      "image/png": "[encoded data removed]",
      "text/plain": [
       "<Figure size 1152x576 with 1 Axes>"
      ]
     },
     "metadata": {
      "needs_background": "light"
     },
     "output_type": "display_data"
    }
   ],
   "source": [
    "#Number of characters\n",
    "class_len = train_df['user_review'].str.len()\n",
    "\n",
    "plt.figure(figsize=(16,8))\n",
    "plt.hist(class_len)\n",
    "plt.title('Characters in Reviews')\n",
    "\n",
    "plt.show()"
   ]
  },
  {
   "cell_type": "code",
   "execution_count": 14,
   "metadata": {},
   "outputs": [
    {
     "data": {
      "image/png": "[encoded data removed]",
      "text/plain": [
       "<Figure size 1152x576 with 1 Axes>"
      ]
     },
     "metadata": {
      "needs_background": "light"
     },
     "output_type": "display_data"
    }
   ],
   "source": [
    "class_len = train_df['user_review'].str.split().map(lambda text: len(text))\n",
    "\n",
    "plt.figure(figsize=(16,8))\n",
    "plt.hist(class_len)\n",
    "plt.title('Words in a review')\n",
    "\n",
    "plt.show()"
   ]
  },
  {
   "cell_type": "code",
   "execution_count": 9,
   "metadata": {},
   "outputs": [
    {
     "name": "stdout",
     "output_type": "stream",
     "text": [
      "['i', 'me', 'my', 'myself', 'we', 'our', 'ours', 'ourselves', 'you', \"you're\", \"you've\", \"you'll\", \"you'd\", 'your', 'yours', 'yourself', 'yourselves', 'he', 'him', 'his', 'himself', 'she', \"she's\", 'her', 'hers', 'herself', 'it', \"it's\", 'its', 'itself', 'they', 'them', 'their', 'theirs', 'themselves', 'what', 'which', 'who', 'whom', 'this', 'that', \"that'll\", 'these', 'those', 'am', 'is', 'are', 'was', 'were', 'be', 'been', 'being', 'have', 'has', 'had', 'having', 'do', 'does', 'did', 'doing', 'a', 'an', 'the', 'and', 'but', 'if', 'or', 'because', 'as', 'until', 'while', 'of', 'at', 'by', 'for', 'with', 'about', 'against', 'between', 'into', 'through', 'during', 'before', 'after', 'above', 'below', 'to', 'from', 'up', 'down', 'in', 'out', 'on', 'off', 'over', 'under', 'again', 'further', 'then', 'once', 'here', 'there', 'when', 'where', 'why', 'how', 'all', 'any', 'both', 'each', 'few', 'more', 'most', 'other', 'some', 'such', 'no', 'nor', 'not', 'only', 'own', 'same', 'so', 'than', 'too', 'very', 's', 't', 'can', 'will', 'just', 'don', \"don't\", 'should', \"should've\", 'now', 'd', 'll', 'm', 'o', 're', 've', 'y', 'ain', 'aren', \"aren't\", 'couldn', \"couldn't\", 'didn', \"didn't\", 'doesn', \"doesn't\", 'hadn', \"hadn't\", 'hasn', \"hasn't\", 'haven', \"haven't\", 'isn', \"isn't\", 'ma', 'mightn', \"mightn't\", 'mustn', \"mustn't\", 'needn', \"needn't\", 'shan', \"shan't\", 'shouldn', \"shouldn't\", 'wasn', \"wasn't\", 'weren', \"weren't\", 'won', \"won't\", 'wouldn', \"wouldn't\"]\n"
     ]
    }
   ],
   "source": [
    "import nltk \n",
    "from nltk.corpus import stopwords \n",
    "import string\n",
    "import collections\n",
    "\n",
    "STOPWORDS = stopwords.words('english')\n",
    "print(STOPWORDS)"
   ]
  },
  {
   "cell_type": "code",
   "execution_count": 10,
   "metadata": {},
   "outputs": [],
   "source": [
    "def create_corpus():\n",
    "    corpus = []\n",
    "    \n",
    "    for sentence in train_df['user_review'].str.split():\n",
    "        for word in sentence:\n",
    "            corpus.append(word.lower())\n",
    "    \n",
    "    return corpus"
   ]
  },
  {
   "cell_type": "code",
   "execution_count": 11,
   "metadata": {},
   "outputs": [],
   "source": [
    "corpus = create_corpus()"
   ]
  },
  {
   "cell_type": "code",
   "execution_count": 12,
   "metadata": {},
   "outputs": [
    {
     "data": {
      "text/plain": [
       "<BarContainer object of 20 artists>"
      ]
     },
     "execution_count": 12,
     "metadata": {},
     "output_type": "execute_result"
    },
    {
     "data": {
      "image/png": "[encoded data removed]",
      "text/plain": [
       "<Figure size 1152x576 with 1 Axes>"
      ]
     },
     "metadata": {
      "needs_background": "light"
     },
     "output_type": "display_data"
    }
   ],
   "source": [
    "#Look at top 20 most common stopwords in our data\n",
    "#corpus = create_corpus()\n",
    "dic = collections.defaultdict(int)\n",
    "\n",
    "for word in corpus:\n",
    "    if word in STOPWORDS:\n",
    "        dic[word] += 1\n",
    "\n",
    "x, y = zip(*sorted(dic.items(), key=lambda word: word[1], reverse=True)[:20])\n",
    "\n",
    "plt.figure(figsize=(16, 8))\n",
    "plt.bar(x, y)"
   ]
  },
  {
   "cell_type": "code",
   "execution_count": 12,
   "metadata": {},
   "outputs": [
    {
     "data": {
      "text/plain": [
       "<BarContainer object of 20 artists>"
      ]
     },
     "execution_count": 12,
     "metadata": {},
     "output_type": "execute_result"
    },
    {
     "data": {
      "image/png": "[encoded data removed]",
      "text/plain": [
       "<Figure size 1152x576 with 1 Axes>"
      ]
     },
     "metadata": {
      "needs_background": "light"
     },
     "output_type": "display_data"
    }
   ],
   "source": [
    "#Now the most common punctuation\n",
    "corpus = create_corpus()\n",
    "dic = collections.defaultdict(int)\n",
    "\n",
    "for word in corpus:\n",
    "    for char in word:\n",
    "        if char in string.punctuation:\n",
    "            dic[char] += 1\n",
    "\n",
    "x, y = zip(*sorted(dic.items(), key=lambda word: word[1], reverse=True)[:20])\n",
    "\n",
    "plt.figure(figsize=(16,8))\n",
    "plt.bar(x, y)"
   ]
  },
  {
   "cell_type": "code",
   "execution_count": 13,
   "metadata": {},
   "outputs": [],
   "source": [
    "#Plot the most common words in review\n",
    "#corpus = create_corpus()\n",
    "counter = collections.Counter(corpus)\n",
    "most_common = counter.most_common()\n",
    "\n",
    "x, y = [], []\n",
    "\n",
    "for word, count in most_common[:50]:\n",
    "    if word not in STOPWORDS:\n",
    "        x.append(word)\n",
    "        y.append(count)"
   ]
  },
  {
   "cell_type": "code",
   "execution_count": 14,
   "metadata": {},
   "outputs": [
    {
     "data": {
      "text/plain": [
       "<AxesSubplot:>"
      ]
     },
     "execution_count": 14,
     "metadata": {},
     "output_type": "execute_result"
    },
    {
     "data": {
      "image/png": "[encoded data removed]",
      "text/plain": [
       "<Figure size 1152x576 with 1 Axes>"
      ]
     },
     "metadata": {
      "needs_background": "light"
     },
     "output_type": "display_data"
    }
   ],
   "source": [
    "#import seaborn as sns \n",
    "\n",
    "plt.figure(figsize=(16, 8))\n",
    "sns.barplot(x=y, y=x)"
   ]
  },
  {
   "cell_type": "code",
   "execution_count": 15,
   "metadata": {},
   "outputs": [],
   "source": [
    "#Add a color theme for the following wordcloud:\n",
    "def purple_color_func(word, font_size, position, orientation, random_state=None,\n",
    "                    **kwargs):\n",
    "    return \"hsl({}, {}%, {}%)\".format(random.randint(220,330), random.randint(60, 80), random.randint(60, 80))\n",
    "            #\"hsl(0, 0%%, %d%%)\" % random.randint(60, 100)\n"
   ]
  },
  {
   "cell_type": "code",
   "execution_count": 16,
   "metadata": {},
   "outputs": [
    {
     "data": {
      "image/png": "[encoded data removed]",
      "text/plain": [
       "<Figure size 1080x360 with 1 Axes>"
      ]
     },
     "metadata": {
      "needs_background": "light"
     },
     "output_type": "display_data"
    }
   ],
   "source": [
    "#Everybody loves a good word cloud\n",
    "from wordcloud import WordCloud\n",
    "\n",
    "all_words = ' '.join(corpus) \n",
    "\n",
    "wordcloud = WordCloud(max_font_size=50, background_color='white', color_func=purple_color_func, stopwords=STOPWORDS).generate(all_words)\n",
    "\n",
    "plt.figure(figsize=(15,5))\n",
    "plt.imshow(wordcloud, interpolation='bilinear')\n",
    "plt.axis(\"off\")\n",
    "\n",
    "plt.show()"
   ]
  },
  {
   "cell_type": "markdown",
   "metadata": {},
   "source": [
    "# Some typical preprocessing:\n",
    "- Apply lowercase  \n",
    "- Remove punctuation  \n",
    "- Remove numbers  \n",
    "- Remove stopwords  \n",
    "- Remove white spaces  \n",
    "- Apply lemmatization  \n",
    "\n",
    "- and stemming???"
   ]
  },
  {
   "cell_type": "code",
   "execution_count": 12,
   "metadata": {},
   "outputs": [],
   "source": [
    "#Apply lowercase\n",
    "train_df['review_cleaned'] = train_df['user_review'].apply(lambda text: text.lower())\n",
    "\n",
    "#Remove punctuation\n",
    "# def remove_punctuation(sentence):\n",
    "#     return ''.join([word for word in str(sentence) if word not in string.punctuation])\n",
    "\n",
    "'''import string\n",
    "a_string = '!hi. wh?at is the weat[h]er lik?e.'\n",
    "new_string = a_string.translate(str.maketrans('', '', string.punctuation))\n",
    "print(new_string)'''\n",
    "import string\n",
    "def remove_punctuation(sentence):\n",
    "    return sentence.translate(str.maketrans('', '', string.punctuation))\n",
    "    \n",
    "train_df['review_cleaned'] = train_df['review_cleaned'].apply(lambda text: remove_punctuation(text))\n",
    "\n",
    "#Remove numbers\n",
    "def remove_numbers(sentence):\n",
    "    return re.sub(r'\\d+', '', sentence)\n",
    "\n",
    "train_df['review_cleaned'] = train_df['review_cleaned'].apply(lambda text: remove_numbers(text))\n",
    "\n",
    "#Remove stopwords\n",
    "def remove_stopwords(sentence):\n",
    "    return ' '.join([word for word in str(sentence).split() if word not in STOPWORDS])\n",
    "    \n",
    "train_df['review_cleaned'] = train_df['review_cleaned'].apply(lambda text: remove_stopwords(text))\n",
    "\n",
    "#Remove white spaces\n",
    "def remove_spaces(sentence):\n",
    "    return re.sub(r'\\s+', ' ', sentence).strip()\n",
    "\n",
    "train_df['review_cleaned'] = train_df['review_cleaned'].apply(lambda text: remove_spaces(text))\n",
    "\n",
    "if not SINGLE_SOURCE:\n",
    "    #Apply lemmatization\n",
    "    spacy_lem = spacy.load('en_core_web_sm', disable=['parser', 'ner'])\n",
    "    def lemmatizer_doc(sentence):\n",
    "        doc = spacy_lem(sentence)\n",
    "        new_sentence = [token.lemma_ for token in doc if token.is_alpha]  \n",
    "        return ' '.join(new_sentence)\n",
    "\n",
    "    train_df['review_lemma'] = train_df['review_cleaned'].apply(lambda text: lemmatizer_doc(text))\n",
    "\n",
    "    # Apply stemming\n",
    "    def stemmer(sentence):\n",
    "        ps = PorterStemmer()\n",
    "        return ps.stem(sentence)\n",
    "\n",
    "    train_df['review_stem'] = train_df['review_cleaned'].apply(lambda text: stemmer(text))"
   ]
  },
  {
   "cell_type": "code",
   "execution_count": 13,
   "metadata": {},
   "outputs": [
    {
     "name": "stdout",
     "output_type": "stream",
     "text": [
      "Original review\n",
      " Great game, fun and colorful and all that.A side note, though: When are we getting windowed mode? My computer hates fullscreen so.... yeah. The computer doesn't like to run this. Shame, because this is really enjoyable. But until then, I guess I'll settle for more Skyrim. Cheers!\n"
     ]
    }
   ],
   "source": [
    "INSPECT_ROW = 3\n",
    "print('Original review\\n', train_df['user_review'].iloc[INSPECT_ROW])\n",
    "if not SINGLE_SOURCE:\n",
    "    print('\\nReview clean\\n',train_df['review_cleaned'].iloc[INSPECT_ROW])\n",
    "    print('\\nReview lemmatized\\n',train_df['review_lemma'].iloc[INSPECT_ROW])\n",
    "    print('\\nReview stemmed\\n',train_df['review_stem'].iloc[INSPECT_ROW])"
   ]
  },
  {
   "cell_type": "markdown",
   "metadata": {},
   "source": [
    "We see that the three \"cleaned\" columns contain noticeable differences.  Although lemmatization sounds like an ideal process to perform in general, familiar text, it may encounter some difficulties when we apply it to informal or vernacular text (which we see extensively in Steam reviews).  Let's process all three cleaned columns into a comparison model later and see how they do."
   ]
  },
  {
   "cell_type": "code",
   "execution_count": null,
   "metadata": {},
   "outputs": [],
   "source": []
  },
  {
   "cell_type": "code",
   "execution_count": 14,
   "metadata": {},
   "outputs": [],
   "source": [
    "lbl_enc = preprocessing.LabelEncoder()\n",
    "y = lbl_enc.fit_transform(train_df.user_suggestion.values)\n"
   ]
  },
  {
   "cell_type": "code",
   "execution_count": 15,
   "metadata": {},
   "outputs": [],
   "source": [
    "if SINGLE_SOURCE:\n",
    "    xtrain, xvalid, ytrain, yvalid = train_test_split(train_df.user_review.values, y, \n",
    "                                                      stratify=y, \n",
    "                                                      random_state=42, \n",
    "                                                      test_size=0.1, shuffle=True)\n",
    "    xtrain_raw, xvalid_raw, ytrain_raw, yvalid_raw = xtrain, xvalid, ytrain, yvalid\n",
    "else:\n",
    "    xtrain_raw, xvalid_raw, ytrain_raw, yvalid_raw = train_test_split(train_df.user_review.values, y, \n",
    "                                                      stratify=y, \n",
    "                                                      random_state=42, \n",
    "                                                      test_size=0.1, shuffle=True)\n",
    "    xtrain_cln, xvalid_cln, ytrain_cln, yvalid_cln = train_test_split(train_df.review_cleaned.values, y, \n",
    "                                                  stratify=y, \n",
    "                                                  random_state=42, \n",
    "                                                  test_size=0.1, shuffle=True)\n",
    "    xtrain_lem, xvalid_lem, ytrain_lem, yvalid_lem = train_test_split(train_df.review_lemma.values, y, \n",
    "                                                  stratify=y, \n",
    "                                                  random_state=42, \n",
    "                                                  test_size=0.1, shuffle=True)\n",
    "    xtrain_stm, xvalid_stm, ytrain_stm, yvalid_stm = train_test_split(train_df.review_stem.values, y, \n",
    "                                                  stratify=y, \n",
    "                                                  random_state=42, \n",
    "                                                  test_size=0.1, shuffle=True)\n",
    "    suffixes = ['_raw', '_cln', '_lem', '_stm']"
   ]
  },
  {
   "cell_type": "markdown",
   "metadata": {},
   "source": [
    "# Metrics\n",
    "Different metrics inform our analysis in their own way.  There are some NLP projects that prioritize log-loss, AUC, f1, accuracy, and others. \n",
    "\n",
    "Part of our choice depends on the following question - should this analysis investigate or explore the level of nuance of a review?  Or should the end goal be simply to predict positivity/negativity well?  \n",
    "\n",
    "- Log-loss is a highly useful metric for evaluating probability.  In this case, our models will be estimating a probability of being a positive review along the way (or, arguably, the level of positive sentiment in the review), so this will be a contender.  This measure will continue to give feedback throughout tuning.\n",
    "\n",
    "- AUC (and ROC curves) measure the ability for a model to separate labels correctly into two distinct categories.  That is included in our goal, so this is also a contender metric that we will look at.  ROC curves can serve as a useful visualization for comparison of different models.  They are also useful when there is a mostly-even distribution in labels (which is what we have).  If they were not even, a precision-recall curve would be more useful.\n",
    "\n",
    "- f1 is a blend of recall and precision, and is worth consideration.\n",
    "\n",
    "- Accuracy will have less \"gray area,\" and won't really be able to consider the nuance (e.g. a lukewarm review might give .6 positivity), but if our priority at the end of the line is to correctly predict positive/negative (and ignore the degree of each), then this could be considered.  This measure will likely give less feedback during tuning, as once a prediction meets the right label, it is considered good enough.\n",
    "\n"
   ]
  },
  {
   "cell_type": "code",
   "execution_count": 16,
   "metadata": {},
   "outputs": [],
   "source": [
    "def score_report(ytrue, preds, bin_preds):\n",
    "    print (\"Model Log-loss: %0.3f \" % log_loss(ytrue, predictions))\n",
    "    print (\"Model F1 score: %0.3f \" % f1_score(ytrue, bin_preds))\n",
    "    print (\"Model Accuracy score: %0.3f \" % accuracy_score(ytrue, bin_preds))\n",
    "    #auc/roc\n",
    "    majority = Counter(ytrue).most_common(1)[0][0]\n",
    "    ns_probs = [majority for _ in range(len(ytrue))]\n",
    "    ns_auc = roc_auc_score(ytrue, ns_probs)\n",
    "    m_auc = roc_auc_score(ytrue, preds[:,1])#predictions\n",
    "    print('Naive ROC AUC=%.3f' % (ns_auc))\n",
    "    print('Model ROC AUC=%.3f' % (m_auc))\n",
    "    ns_fpr, ns_tpr, _ = roc_curve(ytrue, ns_probs)\n",
    "    m_fpr, m_tpr, _ = roc_curve(ytrue, preds[:,1])\n",
    "    plt.plot(ns_fpr, ns_tpr, linestyle='--', label='No Skill')\n",
    "    plt.plot(m_fpr, m_tpr, marker='.', label='Model')\n",
    "    plt.xlabel('False Positive Rate')\n",
    "    plt.ylabel('True Positive Rate')\n",
    "    plt.legend()\n",
    "    plt.show()\n",
    "    \n",
    "    \n"
   ]
  },
  {
   "cell_type": "markdown",
   "metadata": {},
   "source": [
    "# Starting Models\n",
    "- TF-IDF\n",
    "- Logistic Regression"
   ]
  },
  {
   "cell_type": "code",
   "execution_count": 17,
   "metadata": {},
   "outputs": [],
   "source": [
    "splits = ['_raw', '_cln', '_lem', '_stm']\n",
    "def select_split(suffix):\n",
    "    xtrain, xvalid, ytrain, yvalid = eval('xtrain'+suffix+', '+ 'xvalid'+suffix+', '+ 'ytrain'+suffix+', '+ 'yvalid'+suffix)\n",
    "    return xtrain, xvalid, ytrain, yvalid\n"
   ]
  },
  {
   "cell_type": "markdown",
   "metadata": {},
   "source": [
    "# On the raw user reviews"
   ]
  },
  {
   "cell_type": "code",
   "execution_count": 18,
   "metadata": {},
   "outputs": [],
   "source": [
    "xtrain, xvalid, ytrain, yvalid = select_split(splits[0])"
   ]
  },
  {
   "cell_type": "code",
   "execution_count": 19,
   "metadata": {},
   "outputs": [],
   "source": [
    "# Following features are common starting points and work well in most cases.\n",
    "# tfv = TfidfVectorizer(min_df=3,  max_features=None, \n",
    "#             strip_accents='unicode', analyzer='word',token_pattern=r'\\w{1,}',\n",
    "#             ngram_range=(1, 3), use_idf=1,smooth_idf=1,sublinear_tf=1,\n",
    "#             stop_words = 'english')\n",
    "\n",
    "tfv = TfidfVectorizer()\n",
    "\n",
    "# Fitting TF-IDF to both training and test sets (semi-supervised learning)\n",
    "tfv.fit(list(xtrain) + list(xvalid))\n",
    "xtrain_tfv =  tfv.transform(xtrain) \n",
    "xvalid_tfv = tfv.transform(xvalid)"
   ]
  },
  {
   "cell_type": "code",
   "execution_count": 39,
   "metadata": {},
   "outputs": [
    {
     "name": "stdout",
     "output_type": "stream",
     "text": [
      "Model Log-loss: 0.356 \n",
      "Model F1 score: 0.878 \n",
      "Model Accuracy score: 0.857 \n",
      "Naive ROC AUC=0.500\n",
      "Model ROC AUC=0.934\n"
     ]
    },
    {
     "data": {
      "image/png": "[encoded data removed]",
      "text/plain": [
       "<Figure size 432x288 with 1 Axes>"
      ]
     },
     "metadata": {
      "needs_background": "light"
     },
     "output_type": "display_data"
    }
   ],
   "source": [
    "# Fit a simple Logistic Regression on TF-IDF\n",
    "clf = LogisticRegression(C=1.0)\n",
    "clf.fit(xtrain_tfv, ytrain)\n",
    "predictions = clf.predict_proba(xvalid_tfv)\n",
    "bin_preds = clf.predict(xvalid_tfv)\n",
    "# sklearn.metrics.log_loss(y_true, y_pred, *, eps=1e-15, normalize=True, sample_weight=None, labels=None)\n",
    "#from sklearn.metrics import log_loss, f1_score, accuracy_score\n",
    "\n",
    "# print (\"logloss: %0.3f \" % log_loss(yvalid, predictions))\n",
    "# print (\"f1 score: %0.3f \" % f1_score(yvalid, bin_preds))\n",
    "# print (\"Accuracy score: %0.3f \" % accuracy_score(yvalid, bin_preds))\n",
    "\n",
    "score_report(yvalid, predictions, bin_preds)\n",
    "#Note, we want to be careful about applying accuracy/f1 here because those are classification metrics, and only apply to the\n",
    "#binary outputs of .predict.  \n",
    "#We can apply the predict_proba to get actual probabilities (i.e. before the softmax step) that are possibly more\n",
    "#descriptive of what the regression is doing.\n"
   ]
  },
  {
   "cell_type": "code",
   "execution_count": 44,
   "metadata": {},
   "outputs": [
    {
     "name": "stdout",
     "output_type": "stream",
     "text": [
      "Model Log-loss: 0.384 \n",
      "Model F1 score: 0.879 \n",
      "Model Accuracy score: 0.858 \n",
      "Naive ROC AUC=0.500\n",
      "Model ROC AUC=0.934\n"
     ]
    },
    {
     "data": {
      "image/png": "[encoded data removed]",
      "text/plain": [
       "<Figure size 432x288 with 1 Axes>"
      ]
     },
     "metadata": {
      "needs_background": "light"
     },
     "output_type": "display_data"
    }
   ],
   "source": [
    "#Raw plus\n",
    "xtrain, xvalid, ytrain, yvalid = select_split(splits[0])\n",
    "\n",
    "# Following features are common starting points and work well in most cases.\n",
    "tfv = TfidfVectorizer(min_df=3,  max_features=None, \n",
    "            strip_accents='unicode', analyzer='word',token_pattern=r'\\w{1,}',\n",
    "            ngram_range=(1, 3), use_idf=1,smooth_idf=1,sublinear_tf=1,\n",
    "            stop_words = 'english')\n",
    "\n",
    "#tfv = TfidfVectorizer()\n",
    "\n",
    "# Fitting TF-IDF to both training and test sets (semi-supervised learning)\n",
    "tfv.fit(list(xtrain) + list(xvalid))\n",
    "xtrain_tfv =  tfv.transform(xtrain) \n",
    "xvalid_tfv = tfv.transform(xvalid)\n",
    "\n",
    "# Fit a simple Logistic Regression on TF-IDF\n",
    "clf = LogisticRegression(C=1.0)\n",
    "clf.fit(xtrain_tfv, ytrain)\n",
    "predictions = clf.predict_proba(xvalid_tfv)\n",
    "bin_preds = clf.predict(xvalid_tfv)\n",
    "# sklearn.metrics.log_loss(y_true, y_pred, *, eps=1e-15, normalize=True, sample_weight=None, labels=None)\n",
    "#from sklearn.metrics import log_loss, f1_score, accuracy_score\n",
    "\n",
    "# print (\"logloss: %0.3f \" % log_loss(yvalid, predictions))\n",
    "# print (\"f1 score: %0.3f \" % f1_score(yvalid, bin_preds))\n",
    "# print (\"Accuracy score: %0.3f \" % accuracy_score(yvalid, bin_preds))\n",
    "\n",
    "score_report(yvalid, predictions, bin_preds)\n",
    "#Note, we want to be careful about applying accuracy/f1 here because those are classification metrics, and only apply to the\n",
    "#binary outputs of .predict.  \n",
    "#We can apply the predict_proba to get actual probabilities (i.e. before the softmax step) that are possibly more\n",
    "#descriptive of what the regression is doing.\n"
   ]
  },
  {
   "cell_type": "markdown",
   "metadata": {},
   "source": [
    "# On the cleaned reviews"
   ]
  },
  {
   "cell_type": "code",
   "execution_count": 40,
   "metadata": {},
   "outputs": [
    {
     "name": "stdout",
     "output_type": "stream",
     "text": [
      "Model Log-loss: 0.395 \n",
      "Model F1 score: 0.871 \n",
      "Model Accuracy score: 0.848 \n",
      "Naive ROC AUC=0.500\n",
      "Model ROC AUC=0.928\n"
     ]
    },
    {
     "data": {
      "image/png": "[encoded data removed]",
      "text/plain": [
       "<Figure size 432x288 with 1 Axes>"
      ]
     },
     "metadata": {
      "needs_background": "light"
     },
     "output_type": "display_data"
    }
   ],
   "source": [
    "if not SINGLE_SOURCE:\n",
    "    xtrain, xvalid, ytrain, yvalid = select_split(splits[1])\n",
    "    # Following features are common starting points and work well in most cases.\n",
    "    tfv = TfidfVectorizer(min_df=3,  max_features=None, \n",
    "                strip_accents='unicode', analyzer='word',token_pattern=r'\\w{1,}',\n",
    "                ngram_range=(1, 3), use_idf=1,smooth_idf=1,sublinear_tf=1,\n",
    "                stop_words = 'english')\n",
    "\n",
    "    # Fitting TF-IDF to both training and test sets (semi-supervised learning)\n",
    "    tfv.fit(list(xtrain) + list(xvalid))\n",
    "    xtrain_tfv =  tfv.transform(xtrain) \n",
    "    xvalid_tfv = tfv.transform(xvalid)\n",
    "\n",
    "    #############\n",
    "\n",
    "    # Fit a simple Logistic Regression on TF-IDF\n",
    "    clf = LogisticRegression(C=1.0)\n",
    "    clf.fit(xtrain_tfv, ytrain)\n",
    "    predictions = clf.predict_proba(xvalid_tfv)\n",
    "    bin_preds = clf.predict(xvalid_tfv)\n",
    "    # sklearn.metrics.log_loss(y_true, y_pred, *, eps=1e-15, normalize=True, sample_weight=None, labels=None)\n",
    "    #from sklearn.metrics import log_loss, f1_score, accuracy_score\n",
    "\n",
    "    # print (\"logloss: %0.3f \" % log_loss(yvalid, predictions))\n",
    "    # print (\"f1 score: %0.3f \" % f1_score(yvalid, bin_preds))\n",
    "    # print (\"Accuracy score: %0.3f \" % accuracy_score(yvalid, bin_preds))\n",
    "\n",
    "    score_report(yvalid, predictions, bin_preds)\n",
    "    #Note, we want to be careful about applying accuracy/f1 here because those are classification metrics, and only apply to the\n",
    "    #binary outputs of .predict.  \n",
    "    #We can apply the predict_proba to get actual probabilities (i.e. before the softmax step) that are possibly more\n",
    "    #descriptive of what the regression is doing.\n"
   ]
  },
  {
   "cell_type": "markdown",
   "metadata": {},
   "source": [
    "# On the lemmatized reviews"
   ]
  },
  {
   "cell_type": "code",
   "execution_count": 41,
   "metadata": {},
   "outputs": [
    {
     "name": "stdout",
     "output_type": "stream",
     "text": [
      "Model Log-loss: 0.401 \n",
      "Model F1 score: 0.865 \n",
      "Model Accuracy score: 0.841 \n",
      "Naive ROC AUC=0.500\n",
      "Model ROC AUC=0.922\n"
     ]
    },
    {
     "data": {
      "image/png": "[encoded data removed]",
      "text/plain": [
       "<Figure size 432x288 with 1 Axes>"
      ]
     },
     "metadata": {
      "needs_background": "light"
     },
     "output_type": "display_data"
    }
   ],
   "source": [
    "if not SINGLE_SOURCE:\n",
    "    xtrain, xvalid, ytrain, yvalid = select_split(splits[2])\n",
    "    # Following features are common starting points and work well in most cases.\n",
    "    tfv = TfidfVectorizer(min_df=3,  max_features=None, \n",
    "                strip_accents='unicode', analyzer='word',token_pattern=r'\\w{1,}',\n",
    "                ngram_range=(1, 3), use_idf=1,smooth_idf=1,sublinear_tf=1,\n",
    "                stop_words = 'english')\n",
    "\n",
    "    # Fitting TF-IDF to both training and test sets (semi-supervised learning)\n",
    "    tfv.fit(list(xtrain) + list(xvalid))\n",
    "    xtrain_tfv =  tfv.transform(xtrain) \n",
    "    xvalid_tfv = tfv.transform(xvalid)\n",
    "\n",
    "    #############\n",
    "\n",
    "    # Fit a simple Logistic Regression on TF-IDF\n",
    "    clf = LogisticRegression(C=1.0)\n",
    "    clf.fit(xtrain_tfv, ytrain)\n",
    "    predictions = clf.predict_proba(xvalid_tfv)\n",
    "    bin_preds = clf.predict(xvalid_tfv)\n",
    "    # sklearn.metrics.log_loss(y_true, y_pred, *, eps=1e-15, normalize=True, sample_weight=None, labels=None)\n",
    "    #from sklearn.metrics import log_loss, f1_score, accuracy_score\n",
    "\n",
    "    # print (\"logloss: %0.3f \" % log_loss(yvalid, predictions))\n",
    "    # print (\"f1 score: %0.3f \" % f1_score(yvalid, bin_preds))\n",
    "    # print (\"Accuracy score: %0.3f \" % accuracy_score(yvalid, bin_preds))\n",
    "\n",
    "    score_report(yvalid, predictions, bin_preds)\n",
    "    #Note, we want to be careful about applying accuracy/f1 here because those are classification metrics, and only apply to the\n",
    "    #binary outputs of .predict.  \n",
    "    #We can apply the predict_proba to get actual probabilities (i.e. before the softmax step) that are possibly more\n",
    "    #descriptive of what the regression is doing.\n"
   ]
  },
  {
   "cell_type": "markdown",
   "metadata": {},
   "source": [
    "# On the stemmed reviews"
   ]
  },
  {
   "cell_type": "code",
   "execution_count": 42,
   "metadata": {},
   "outputs": [
    {
     "name": "stdout",
     "output_type": "stream",
     "text": [
      "Model Log-loss: 0.397 \n",
      "Model F1 score: 0.870 \n",
      "Model Accuracy score: 0.847 \n",
      "Naive ROC AUC=0.500\n",
      "Model ROC AUC=0.927\n"
     ]
    },
    {
     "data": {
      "image/png": "[encoded data removed]",
      "text/plain": [
       "<Figure size 432x288 with 1 Axes>"
      ]
     },
     "metadata": {
      "needs_background": "light"
     },
     "output_type": "display_data"
    }
   ],
   "source": [
    "if not SINGLE_SOURCE:\n",
    "    xtrain, xvalid, ytrain, yvalid = select_split(splits[3])\n",
    "    # Following features are common starting points and work well in most cases.\n",
    "    tfv = TfidfVectorizer(min_df=3,  max_features=None, \n",
    "                strip_accents='unicode', analyzer='word',token_pattern=r'\\w{1,}',\n",
    "                ngram_range=(1, 3), use_idf=1,smooth_idf=1,sublinear_tf=1,\n",
    "                stop_words = 'english')\n",
    "\n",
    "    # Fitting TF-IDF to both training and test sets (semi-supervised learning)\n",
    "    tfv.fit(list(xtrain) + list(xvalid))\n",
    "    xtrain_tfv =  tfv.transform(xtrain) \n",
    "    xvalid_tfv = tfv.transform(xvalid)\n",
    "\n",
    "    #############\n",
    "\n",
    "    # Fit a simple Logistic Regression on TF-IDF\n",
    "    clf = LogisticRegression(C=1.0)\n",
    "    clf.fit(xtrain_tfv, ytrain)\n",
    "    predictions = clf.predict_proba(xvalid_tfv)\n",
    "    bin_preds = clf.predict(xvalid_tfv)\n",
    "    # sklearn.metrics.log_loss(y_true, y_pred, *, eps=1e-15, normalize=True, sample_weight=None, labels=None)\n",
    "    #from sklearn.metrics import log_loss, f1_score, accuracy_score\n",
    "\n",
    "    # print (\"logloss: %0.3f \" % log_loss(yvalid, predictions))\n",
    "    # print (\"f1 score: %0.3f \" % f1_score(yvalid, bin_preds))\n",
    "    # print (\"Accuracy score: %0.3f \" % accuracy_score(yvalid, bin_preds))\n",
    "\n",
    "    score_report(yvalid, predictions, bin_preds)\n",
    "    #Note, we want to be careful about applying accuracy/f1 here because those are classification metrics, and only apply to the\n",
    "    #binary outputs of .predict.  \n",
    "    #We can apply the predict_proba to get actual probabilities (i.e. before the softmax step) that are possibly more\n",
    "    #descriptive of what the regression is doing.\n"
   ]
  },
  {
   "cell_type": "markdown",
   "metadata": {},
   "source": [
    "Somewhat unexpectedly, the built-in processing in TfidfVectorizer works best on logistic regression. Whether stemming/lemmatization underperform because they aren't capturing vernacular is unclear, but we will proceed with it (rerunning that cell below to re-initialize all its variables).  \n"
   ]
  },
  {
   "cell_type": "code",
   "execution_count": 28,
   "metadata": {},
   "outputs": [
    {
     "name": "stdout",
     "output_type": "stream",
     "text": [
      "Model Log-loss: 0.384 \n",
      "Model F1 score: 0.879 \n",
      "Model Accuracy score: 0.858 \n",
      "Naive ROC AUC=0.500\n",
      "Model ROC AUC=0.934\n"
     ]
    },
    {
     "data": {
      "image/png": "[encoded data removed]",
      "text/plain": [
       "<Figure size 432x288 with 1 Axes>"
      ]
     },
     "metadata": {
      "needs_background": "light"
     },
     "output_type": "display_data"
    }
   ],
   "source": [
    "if not SINGLE_SOURCE:\n",
    "    #Raw \n",
    "    suffix=0\n",
    "    xtrain, xvalid, ytrain, yvalid = select_split(splits[0])\n",
    "\n",
    "    # Following features are common starting points and work well in most cases.\n",
    "    tfv = TfidfVectorizer(min_df=3,  max_features=None, \n",
    "                strip_accents='unicode', analyzer='word',token_pattern=r'\\w{1,}',\n",
    "                ngram_range=(1, 3), use_idf=1,smooth_idf=1,sublinear_tf=1,\n",
    "                stop_words = 'english')\n",
    "\n",
    "    #tfv = TfidfVectorizer()\n",
    "\n",
    "    # Fitting TF-IDF to both training and test sets (semi-supervised learning)\n",
    "    tfv.fit(list(xtrain) + list(xvalid))\n",
    "    xtrain_tfv =  tfv.transform(xtrain) \n",
    "    xvalid_tfv = tfv.transform(xvalid)\n",
    "\n",
    "    # Fit a simple Logistic Regression on TF-IDF\n",
    "    clf = LogisticRegression(C=1.0)\n",
    "    clf.fit(xtrain_tfv, ytrain)\n",
    "    predictions = clf.predict_proba(xvalid_tfv)\n",
    "    bin_preds = clf.predict(xvalid_tfv)\n",
    "    # sklearn.metrics.log_loss(y_true, y_pred, *, eps=1e-15, normalize=True, sample_weight=None, labels=None)\n",
    "    #from sklearn.metrics import log_loss, f1_score, accuracy_score\n",
    "\n",
    "    # print (\"logloss: %0.3f \" % log_loss(yvalid, predictions))\n",
    "    # print (\"f1 score: %0.3f \" % f1_score(yvalid, bin_preds))\n",
    "    # print (\"Accuracy score: %0.3f \" % accuracy_score(yvalid, bin_preds))\n",
    "\n",
    "    score_report(yvalid, predictions, bin_preds)\n",
    "    #Note, we want to be careful about applying accuracy/f1 here because those are classification metrics, and only apply to the\n",
    "    #binary outputs of .predict.  \n",
    "    #We can apply the predict_proba to get actual probabilities (i.e. before the softmax step) that are possibly more\n",
    "    #descriptive of what the regression is doing.\n"
   ]
  },
  {
   "cell_type": "markdown",
   "metadata": {},
   "source": [
    "# Word Counts - CountVectorizer"
   ]
  },
  {
   "cell_type": "markdown",
   "metadata": {},
   "source": [
    "Instead of using TF-IDF, we can also use word counts as features. This can be done easily using CountVectorizer from scikit-learn."
   ]
  },
  {
   "cell_type": "code",
   "execution_count": 22,
   "metadata": {},
   "outputs": [],
   "source": [
    "xtrain, xvalid, ytrain, yvalid = select_split(splits[0])\n",
    "\n",
    "ctv = CountVectorizer(analyzer='word',token_pattern=r'\\w{1,}',\n",
    "            ngram_range=(1, 3), stop_words = 'english')\n",
    "\n",
    "# Fitting Count Vectorizer to both training and test sets (semi-supervised learning)\n",
    "ctv.fit(list(xtrain) + list(xvalid))\n",
    "xtrain_ctv =  ctv.transform(xtrain) \n",
    "xvalid_ctv = ctv.transform(xvalid)"
   ]
  },
  {
   "cell_type": "code",
   "execution_count": 30,
   "metadata": {},
   "outputs": [],
   "source": [
    "#checking out an arbitrary entry of that ctv\n",
    "#xtrain_ctv[1,2]"
   ]
  },
  {
   "cell_type": "code",
   "execution_count": 31,
   "metadata": {},
   "outputs": [
    {
     "name": "stdout",
     "output_type": "stream",
     "text": [
      "Scores for simple Logistic Regression on counts on _raw data.\n",
      "Model Log-loss: 0.449 \n",
      "Model F1 score: 0.872 \n",
      "Model Accuracy score: 0.851 \n",
      "Naive ROC AUC=0.500\n",
      "Model ROC AUC=0.920\n"
     ]
    },
    {
     "data": {
      "image/png": "[encoded data removed]",
      "text/plain": [
       "<Figure size 432x288 with 1 Axes>"
      ]
     },
     "metadata": {
      "needs_background": "light"
     },
     "output_type": "display_data"
    }
   ],
   "source": [
    "# Fit a simple Logistic Regression on those Counts\n",
    "clf = LogisticRegression(C=1.0, max_iter=500,)\n",
    "clf.fit(xtrain_ctv, ytrain)\n",
    "predictions = clf.predict_proba(xvalid_ctv)\n",
    "bin_preds = clf.predict(xvalid_ctv)\n",
    "\n",
    "# print (\"logloss: %0.3f \" % log_loss(yvalid, predictions))\n",
    "# print (\"f1 score: %0.3f \" % f1_score(yvalid, bin_preds))\n",
    "# print (\"Accuracy score: %0.3f \" % accuracy_score(yvalid, bin_preds))\n",
    "\n",
    "print('Scores for simple Logistic Regression on counts on {} data.'.format(splits[suffix]))\n",
    "score_report(yvalid, predictions, bin_preds)"
   ]
  },
  {
   "cell_type": "markdown",
   "metadata": {},
   "source": [
    "Ok, worse loss, f1, and accuracy."
   ]
  },
  {
   "cell_type": "code",
   "execution_count": 78,
   "metadata": {},
   "outputs": [],
   "source": [
    "if not SINGLE_SOURCE:\n",
    "    #Looping through the 4 sets\n",
    "    for suffix in range(len(splits)):\n",
    "        xtrain, xvalid, ytrain, yvalid = select_split(splits[suffix])\n",
    "\n",
    "        ctv = CountVectorizer(analyzer='word',token_pattern=r'\\w{1,}',\n",
    "                    ngram_range=(1, 3), stop_words = 'english')\n",
    "\n",
    "        # Fitting Count Vectorizer to both training and test sets (semi-supervised learning)\n",
    "        ctv.fit(list(xtrain) + list(xvalid))\n",
    "        xtrain_ctv =  ctv.transform(xtrain) \n",
    "        xvalid_ctv = ctv.transform(xvalid)\n",
    "\n",
    "        # Fit a simple Logistic Regression on those Counts\n",
    "        clf = LogisticRegression(C=1.0, max_iter=500,)\n",
    "        clf.fit(xtrain_ctv, ytrain)\n",
    "        predictions = clf.predict_proba(xvalid_ctv)\n",
    "        bin_preds = clf.predict(xvalid_ctv)\n",
    "        print('Scores for Count Vectorized Logistic Regression on {} data.'.format(splits[suffix]))\n",
    "        score_report(yvalid, predictions, bin_preds)\n",
    "    "
   ]
  },
  {
   "cell_type": "code",
   "execution_count": 81,
   "metadata": {},
   "outputs": [
    {
     "name": "stdout",
     "output_type": "stream",
     "text": [
      "Scores for simple Naive Bayes on TF-IDF on _raw data.\n",
      "Model Log-loss: 0.400 \n",
      "Model F1 score: 0.868 \n",
      "Model Accuracy score: 0.836 \n",
      "Naive ROC AUC=0.500\n",
      "Model ROC AUC=0.930\n"
     ]
    },
    {
     "data": {
      "image/png": "[encoded data removed]",
      "text/plain": [
       "<Figure size 432x288 with 1 Axes>"
      ]
     },
     "metadata": {
      "needs_background": "light"
     },
     "output_type": "display_data"
    }
   ],
   "source": [
    "# Fit a simple Naive Bayes on TF-IDF\n",
    "clf = MultinomialNB()\n",
    "clf.fit(xtrain_tfv, ytrain)\n",
    "predictions = clf.predict_proba(xvalid_tfv)\n",
    "bin_preds = clf.predict(xvalid_tfv)\n",
    "\n",
    "# print (\"logloss: %0.3f \" % log_loss(yvalid, predictions))\n",
    "# print (\"f1 score: %0.3f \" % f1_score(yvalid, bin_preds))\n",
    "# print (\"Accuracy score: %0.3f \" % accuracy_score(yvalid, bin_preds))\n",
    "\n",
    "print('Scores for simple Naive Bayes on TF-IDF on {} data.'.format(splits[suffix]))\n",
    "score_report(yvalid, predictions, bin_preds)"
   ]
  },
  {
   "cell_type": "markdown",
   "metadata": {},
   "source": [
    "What happens when we use this model on counts data instead?"
   ]
  },
  {
   "cell_type": "code",
   "execution_count": 82,
   "metadata": {},
   "outputs": [
    {
     "name": "stdout",
     "output_type": "stream",
     "text": [
      "Scores for simple Naive Bayes on Counts on _raw data.\n",
      "Model Log-loss: 1.286 \n",
      "Model F1 score: 0.876 \n",
      "Model Accuracy score: 0.859 \n",
      "Naive ROC AUC=0.500\n",
      "Model ROC AUC=0.914\n"
     ]
    },
    {
     "data": {
      "image/png": "[encoded data removed]",
      "text/plain": [
       "<Figure size 432x288 with 1 Axes>"
      ]
     },
     "metadata": {
      "needs_background": "light"
     },
     "output_type": "display_data"
    }
   ],
   "source": [
    "# Fit a simple Naive Bayes on Counts\n",
    "clf = MultinomialNB()\n",
    "clf.fit(xtrain_ctv, ytrain)\n",
    "predictions = clf.predict_proba(xvalid_ctv)\n",
    "bin_preds = clf.predict(xvalid_ctv)\n",
    "\n",
    "# print (\"logloss: %0.3f \" % log_loss(yvalid, predictions))\n",
    "# print (\"f1 score: %0.3f \" % f1_score(yvalid, bin_preds))\n",
    "# print (\"Accuracy score: %0.3f \" % accuracy_score(yvalid, bin_preds))\n",
    "\n",
    "print('Scores for simple Naive Bayes on Counts on {} data.'.format(splits[suffix]))\n",
    "score_report(yvalid, predictions, bin_preds)\n",
    "\n"
   ]
  },
  {
   "cell_type": "markdown",
   "metadata": {},
   "source": [
    "NB on counts did not improve"
   ]
  },
  {
   "cell_type": "markdown",
   "metadata": {},
   "source": [
    "One more classic algorithm is SVMs. \n",
    "\n",
    "In order to improve performance on time, we will reduce the number of features from the TF-IDF using Singular Value Decomposition before applying SVM.\n",
    "\n",
    "Also, it is better to standardize the data before applying SVMs."
   ]
  },
  {
   "cell_type": "code",
   "execution_count": 23,
   "metadata": {},
   "outputs": [],
   "source": [
    "# Apply SVD, with 120 components. 120-200 components are widely considered sufficient for SVM.\n",
    "svd = decomposition.TruncatedSVD(n_components=120)\n",
    "svd.fit(xtrain_tfv)\n",
    "xtrain_svd = svd.transform(xtrain_tfv)\n",
    "xvalid_svd = svd.transform(xvalid_tfv)\n",
    "\n",
    "# Scale the data obtained from SVD. Renaming variable to reuse without scaling.\n",
    "scl = preprocessing.StandardScaler()\n",
    "scl.fit(xtrain_svd)\n",
    "xtrain_svd_scl = scl.transform(xtrain_svd)\n",
    "xvalid_svd_scl = scl.transform(xvalid_svd)"
   ]
  },
  {
   "cell_type": "markdown",
   "metadata": {},
   "source": [
    "Now time to fit the SVM.  This can take a while!"
   ]
  },
  {
   "cell_type": "code",
   "execution_count": null,
   "metadata": {},
   "outputs": [],
   "source": [
    "# Fitting a simple SVM\n",
    "clf = SVC(C=1.0, probability=True) # since we want probabilities in addition to the 0/1 scores\n",
    "clf.fit(xtrain_svd_scl, ytrain)\n",
    "predictions = clf.predict_proba(xvalid_svd_scl)\n",
    "bin_preds = clf.predict(xvalid_svd_scl)\n",
    "\n",
    "# print (\"logloss: %0.3f \" % log_loss(yvalid, predictions))\n",
    "# print (\"f1 score: %0.3f \" % f1_score(yvalid, bin_preds))\n",
    "# print (\"Accuracy score: %0.3f \" % accuracy_score(yvalid, bin_preds))\n",
    "\n",
    "print('Scores for simple SVM on scaled SVD on {} data.'.format(splits[suffix]))\n",
    "score_report(yvalid, predictions, bin_preds)\n"
   ]
  },
  {
   "cell_type": "markdown",
   "metadata": {},
   "source": [
    "This is even better loss and good f1/acc."
   ]
  },
  {
   "cell_type": "markdown",
   "metadata": {},
   "source": [
    "That performed pretty well on logloss.  Neat!  \n",
    "\n",
    "Of course, we couldn't stop without trying XGBoost!"
   ]
  },
  {
   "cell_type": "code",
   "execution_count": 83,
   "metadata": {},
   "outputs": [
    {
     "name": "stderr",
     "output_type": "stream",
     "text": [
      "C:\\Users\\Eric\\anaconda3\\envs\\learn-env\\lib\\site-packages\\xgboost\\sklearn.py:1224: UserWarning: The use of label encoder in XGBClassifier is deprecated and will be removed in a future release. To remove this warning, do the following: 1) Pass option use_label_encoder=False when constructing XGBClassifier object; and 2) Encode your labels (y) as integers starting with 0, i.e. 0, 1, 2, ..., [num_class - 1].\n",
      "  warnings.warn(label_encoder_deprecation_msg, UserWarning)\n"
     ]
    },
    {
     "name": "stdout",
     "output_type": "stream",
     "text": [
      "[18:32:09] WARNING: ..\\src\\learner.cc:1115: Starting in XGBoost 1.3.0, the default evaluation metric used with the objective 'binary:logistic' was changed from 'error' to 'logloss'. Explicitly set eval_metric if you'd like to restore the old behavior.\n",
      "Scores for simple Naive Bayes on Counts on _raw data.\n",
      "Model Log-loss: 0.393 \n",
      "Model F1 score: 0.856 \n",
      "Model Accuracy score: 0.831 \n",
      "Naive ROC AUC=0.500\n",
      "Model ROC AUC=0.911\n"
     ]
    },
    {
     "data": {
      "image/png": "[encoded data removed]",
      "text/plain": [
       "<Figure size 432x288 with 1 Axes>"
      ]
     },
     "metadata": {
      "needs_background": "light"
     },
     "output_type": "display_data"
    }
   ],
   "source": [
    "# Fit a basic xgboost on tf-idf\n",
    "clf = xgb.XGBClassifier(max_depth=7, n_estimators=200, colsample_bytree=0.8, \n",
    "                        subsample=0.8, nthread=10, learning_rate=0.1)\n",
    "clf.fit(xtrain_tfv.tocsc(), ytrain)\n",
    "predictions = clf.predict_proba(xvalid_tfv.tocsc())\n",
    "bin_preds = clf.predict(xvalid_tfv.tocsc())\n",
    "\n",
    "\n",
    "# print (\"logloss: %0.3f \" % log_loss(yvalid, predictions))\n",
    "# print (\"f1 score: %0.3f \" % f1_score(yvalid, bin_preds))\n",
    "# print (\"Accuracy score: %0.3f \" % accuracy_score(yvalid, bin_preds))\n",
    "\n",
    "print('Scores for simple XGBoost on TFIDF on {} data.'.format(splits[suffix]))\n",
    "score_report(yvalid, predictions, bin_preds)"
   ]
  },
  {
   "cell_type": "markdown",
   "metadata": {},
   "source": [
    "Strangely, XGBoost didn't do as well on TF-IDF features as logistic regression."
   ]
  },
  {
   "cell_type": "code",
   "execution_count": 33,
   "metadata": {},
   "outputs": [
    {
     "name": "stderr",
     "output_type": "stream",
     "text": [
      "C:\\Users\\Eric\\anaconda3\\envs\\learn-env\\lib\\site-packages\\xgboost\\sklearn.py:1224: UserWarning: The use of label encoder in XGBClassifier is deprecated and will be removed in a future release. To remove this warning, do the following: 1) Pass option use_label_encoder=False when constructing XGBClassifier object; and 2) Encode your labels (y) as integers starting with 0, i.e. 0, 1, 2, ..., [num_class - 1].\n",
      "  warnings.warn(label_encoder_deprecation_msg, UserWarning)\n"
     ]
    },
    {
     "name": "stdout",
     "output_type": "stream",
     "text": [
      "[14:43:33] WARNING: ..\\src\\learner.cc:1115: Starting in XGBoost 1.3.0, the default evaluation metric used with the objective 'binary:logistic' was changed from 'error' to 'logloss'. Explicitly set eval_metric if you'd like to restore the old behavior.\n",
      "Scores for simple XGBoost on TF-IDF SVD features on _raw data.\n",
      "Model Log-loss: 0.424 \n",
      "Model F1 score: 0.758 \n",
      "Model Accuracy score: 0.714 \n",
      "Naive ROC AUC=0.500\n",
      "Model ROC AUC=0.894\n"
     ]
    },
    {
     "data": {
      "image/png": "[encoded data removed]",
      "text/plain": [
       "<Figure size 432x288 with 1 Axes>"
      ]
     },
     "metadata": {
      "needs_background": "light"
     },
     "output_type": "display_data"
    }
   ],
   "source": [
    "# Fitting a simple xgboost on tf-idf svd features with default parameters\n",
    "clf = xgb.XGBClassifier(nthread=10)\n",
    "clf.fit(xtrain_svd, ytrain)\n",
    "predictions = clf.predict_proba(xvalid_svd)\n",
    "bin_preds = clf.predict(xvalid_svd_scl)\n",
    "\n",
    "# print (\"logloss: %0.3f \" % log_loss(yvalid, predictions))\n",
    "# print (\"f1 score: %0.3f \" % f1_score(yvalid, bin_preds))\n",
    "# print (\"Accuracy score: %0.3f \" % accuracy_score(yvalid, bin_preds))\n",
    "\n",
    "print('Scores for simple XGBoost on TF-IDF SVD features on {} data.'.format(splits[suffix]))\n",
    "score_report(yvalid, predictions, bin_preds)"
   ]
  },
  {
   "cell_type": "code",
   "execution_count": 34,
   "metadata": {},
   "outputs": [
    {
     "name": "stderr",
     "output_type": "stream",
     "text": [
      "C:\\Users\\Eric\\anaconda3\\envs\\learn-env\\lib\\site-packages\\xgboost\\sklearn.py:1224: UserWarning: The use of label encoder in XGBClassifier is deprecated and will be removed in a future release. To remove this warning, do the following: 1) Pass option use_label_encoder=False when constructing XGBClassifier object; and 2) Encode your labels (y) as integers starting with 0, i.e. 0, 1, 2, ..., [num_class - 1].\n",
      "  warnings.warn(label_encoder_deprecation_msg, UserWarning)\n"
     ]
    },
    {
     "name": "stdout",
     "output_type": "stream",
     "text": [
      "[14:43:48] WARNING: ..\\src\\learner.cc:1115: Starting in XGBoost 1.3.0, the default evaluation metric used with the objective 'binary:logistic' was changed from 'error' to 'logloss'. Explicitly set eval_metric if you'd like to restore the old behavior.\n",
      "Scores for simple XGBoost on TF-IDF SVD (with common hyperparams) features on _raw data.\n",
      "Model Log-loss: 0.396 \n",
      "Model F1 score: 0.841 \n",
      "Model Accuracy score: 0.815 \n",
      "Naive ROC AUC=0.500\n",
      "Model ROC AUC=0.902\n"
     ]
    },
    {
     "data": {
      "image/png": "[encoded data removed]",
      "text/plain": [
       "<Figure size 432x288 with 1 Axes>"
      ]
     },
     "metadata": {
      "needs_background": "light"
     },
     "output_type": "display_data"
    }
   ],
   "source": [
    "# Fit a basic xgboost on more common hyperparams for tf-idf svd features\n",
    "clf = xgb.XGBClassifier(max_depth=7, n_estimators=200, colsample_bytree=0.8, \n",
    "                        subsample=0.8, nthread=10, learning_rate=0.1)\n",
    "clf.fit(xtrain_svd, ytrain)\n",
    "predictions = clf.predict_proba(xvalid_svd)\n",
    "bin_preds = clf.predict(xvalid_svd)\n",
    "\n",
    "# print (\"logloss: %0.3f \" % log_loss(yvalid, predictions))\n",
    "# print (\"f1 score: %0.3f \" % f1_score(yvalid, bin_preds))\n",
    "# print (\"Accuracy score: %0.3f \" % accuracy_score(yvalid, bin_preds))\n",
    "\n",
    "print('Scores for simple XGBoost on TF-IDF SVD (with common hyperparams) features on {} data.'.format(splits[suffix]))\n",
    "score_report(yvalid, predictions, bin_preds)"
   ]
  },
  {
   "cell_type": "markdown",
   "metadata": {},
   "source": [
    "On TF-IDF SVD unscaled features, XGBoost does not improve.  \n",
    "\n",
    "What about on scaled features?"
   ]
  },
  {
   "cell_type": "code",
   "execution_count": 35,
   "metadata": {},
   "outputs": [
    {
     "name": "stderr",
     "output_type": "stream",
     "text": [
      "C:\\Users\\Eric\\anaconda3\\envs\\learn-env\\lib\\site-packages\\xgboost\\sklearn.py:1224: UserWarning: The use of label encoder in XGBClassifier is deprecated and will be removed in a future release. To remove this warning, do the following: 1) Pass option use_label_encoder=False when constructing XGBClassifier object; and 2) Encode your labels (y) as integers starting with 0, i.e. 0, 1, 2, ..., [num_class - 1].\n",
      "  warnings.warn(label_encoder_deprecation_msg, UserWarning)\n"
     ]
    },
    {
     "name": "stdout",
     "output_type": "stream",
     "text": [
      "[14:44:12] WARNING: ..\\src\\learner.cc:1115: Starting in XGBoost 1.3.0, the default evaluation metric used with the objective 'binary:logistic' was changed from 'error' to 'logloss'. Explicitly set eval_metric if you'd like to restore the old behavior.\n",
      "Scores for simple XGBoost on Scaled TF-IDF SVD (with common hyperparams) features on _raw data.\n",
      "Model Log-loss: 0.396 \n",
      "Model F1 score: 0.841 \n",
      "Model Accuracy score: 0.815 \n",
      "Naive ROC AUC=0.500\n",
      "Model ROC AUC=0.902\n"
     ]
    },
    {
     "data": {
      "image/png": "[encoded data removed]",
      "text/plain": [
       "<Figure size 432x288 with 1 Axes>"
      ]
     },
     "metadata": {
      "needs_background": "light"
     },
     "output_type": "display_data"
    }
   ],
   "source": [
    "# Fit a basic xgboost on SCALED tf-idf svd features\n",
    "clf = xgb.XGBClassifier(max_depth=7, n_estimators=200, colsample_bytree=0.8, \n",
    "                        subsample=0.8, nthread=10, learning_rate=0.1)\n",
    "clf.fit(xtrain_svd_scl, ytrain)\n",
    "predictions = clf.predict_proba(xvalid_svd_scl)\n",
    "bin_preds = clf.predict(xvalid_svd_scl)\n",
    "\n",
    "# print (\"logloss: %0.3f \" % log_loss(yvalid, predictions))\n",
    "# print (\"f1 score: %0.3f \" % f1_score(yvalid, bin_preds))\n",
    "# print (\"Accuracy score: %0.3f \" % accuracy_score(yvalid, bin_preds))\n",
    "\n",
    "print('Scores for simple XGBoost on Scaled TF-IDF SVD (with common hyperparams) features on {} data.'.format(splits[suffix]))\n",
    "score_report(yvalid, predictions, bin_preds)"
   ]
  },
  {
   "cell_type": "markdown",
   "metadata": {},
   "source": [
    "So, on Scaled TF-IDF SVD features, XGboost does very similarly.  \n",
    "\n",
    "But wait!  We haven't done any tuning of hyperparameters yet."
   ]
  },
  {
   "cell_type": "markdown",
   "metadata": {},
   "source": [
    "# Improve all those models with some grid search optimization  \n",
    "First, we can define a scoring metric for automation.  Log-loss will suffice for now, as it was represented the other metrics and seemed to be more sensitive."
   ]
  },
  {
   "cell_type": "code",
   "execution_count": 24,
   "metadata": {},
   "outputs": [],
   "source": [
    "basic_scorer = metrics.make_scorer(log_loss, greater_is_better=False, needs_proba=True)"
   ]
  },
  {
   "cell_type": "markdown",
   "metadata": {},
   "source": [
    "Since we applied svd and scaling to two different sets (TF-IDF and SVD), this seems like it has potential for a pipeline approach"
   ]
  },
  {
   "cell_type": "code",
   "execution_count": 25,
   "metadata": {},
   "outputs": [],
   "source": [
    "# Initialize SVD\n",
    "svd = TruncatedSVD()\n",
    "    \n",
    "# Initialize a standard scaler \n",
    "scl = preprocessing.StandardScaler()\n",
    "\n",
    "# We will use logistic regression here.\n",
    "lr_model = LogisticRegression()\n",
    "\n",
    "# Create the Logistic Regression pipeline \n",
    "clf_lr = pipeline.Pipeline([('svd', svd),\n",
    "                         ('scl', scl),\n",
    "                         ('lr', lr_model)])\n",
    "\n",
    "#Set up the parameter grid\n",
    "param_grid = {'svd__n_components' : [120, 180],\n",
    "              'lr__C': [0.1, 1.0, 10], \n",
    "              'lr__penalty': ['l1', 'l2']}"
   ]
  },
  {
   "cell_type": "code",
   "execution_count": 41,
   "metadata": {},
   "outputs": [
    {
     "name": "stdout",
     "output_type": "stream",
     "text": [
      "Fitting 4 folds for each of 12 candidates, totalling 48 fits\n"
     ]
    },
    {
     "name": "stderr",
     "output_type": "stream",
     "text": [
      "[Parallel(n_jobs=-1)]: Using backend LokyBackend with 4 concurrent workers.\n",
      "[Parallel(n_jobs=-1)]: Done   5 tasks      | elapsed:  2.4min\n",
      "[Parallel(n_jobs=-1)]: Done  10 tasks      | elapsed:  3.5min\n",
      "[Parallel(n_jobs=-1)]: Done  17 tasks      | elapsed:  5.9min\n",
      "[Parallel(n_jobs=-1)]: Done  24 tasks      | elapsed:  7.1min\n",
      "[Parallel(n_jobs=-1)]: Done  33 tasks      | elapsed: 10.5min\n",
      "[Parallel(n_jobs=-1)]: Done  46 out of  48 | elapsed: 14.0min remaining:   36.6s\n",
      "[Parallel(n_jobs=-1)]: Done  48 out of  48 | elapsed: 14.1min finished\n",
      "C:\\Users\\Eric\\anaconda3\\envs\\learn-env\\lib\\site-packages\\sklearn\\model_selection\\_search.py:847: FutureWarning: The parameter 'iid' is deprecated in 0.22 and will be removed in 0.24.\n",
      "  warnings.warn(\n",
      "C:\\Users\\Eric\\anaconda3\\envs\\learn-env\\lib\\site-packages\\xgboost\\sklearn.py:1224: UserWarning: The use of label encoder in XGBClassifier is deprecated and will be removed in a future release. To remove this warning, do the following: 1) Pass option use_label_encoder=False when constructing XGBClassifier object; and 2) Encode your labels (y) as integers starting with 0, i.e. 0, 1, 2, ..., [num_class - 1].\n",
      "  warnings.warn(label_encoder_deprecation_msg, UserWarning)\n"
     ]
    },
    {
     "name": "stdout",
     "output_type": "stream",
     "text": [
      "[07:36:19] WARNING: ..\\src\\learner.cc:576: \n",
      "Parameters: { \"lr__C\", \"lr__penalty\", \"svd__n_components\" } might not be used.\n",
      "\n",
      "  This could be a false alarm, with some parameters getting used by language bindings but\n",
      "  then being mistakenly passed down to XGBoost core, or some parameter actually being used\n",
      "  but getting flagged wrongly here. Please open an issue if you find any such cases.\n",
      "\n",
      "\n",
      "[07:36:19] WARNING: ..\\src\\learner.cc:1115: Starting in XGBoost 1.3.0, the default evaluation metric used with the objective 'binary:logistic' was changed from 'error' to 'logloss'. Explicitly set eval_metric if you'd like to restore the old behavior.\n",
      "Best score: -0.401\n",
      "Best parameters set:\n",
      "\tlr__C: 0.1\n",
      "\tlr__penalty: 'l1'\n",
      "\tsvd__n_components: 120\n"
     ]
    }
   ],
   "source": [
    "# Initialize Grid Search Model\n",
    "model = GridSearchCV(estimator=clf, param_grid=param_grid, scoring=basic_scorer,\n",
    "                                 verbose=10, n_jobs=-1, iid=True, refit=True, cv=4)\n",
    "\n",
    "# Fit Grid Search Model\n",
    "model.fit(xtrain_tfv, ytrain)  # we could use the full data here because of CV, but probably even better integrity if we reserve Validation set\n",
    "print(\"Best score: %0.3f\" % model.best_score_)\n",
    "print(\"Best parameters set:\")\n",
    "best_parameters = model.best_estimator_.get_params()\n",
    "for param_name in sorted(param_grid.keys()):\n",
    "    print(\"\\t%s: %r\" % (param_name, best_parameters[param_name]))"
   ]
  },
  {
   "cell_type": "markdown",
   "metadata": {},
   "source": [
    " (results summary)"
   ]
  },
  {
   "cell_type": "code",
   "execution_count": 42,
   "metadata": {},
   "outputs": [
    {
     "name": "stdout",
     "output_type": "stream",
     "text": [
      "Fitting 2 folds for each of 6 candidates, totalling 12 fits\n"
     ]
    },
    {
     "name": "stderr",
     "output_type": "stream",
     "text": [
      "[Parallel(n_jobs=-1)]: Using backend LokyBackend with 4 concurrent workers.\n",
      "[Parallel(n_jobs=-1)]: Batch computation too fast (0.0829s.) Setting batch_size=2.\n",
      "[Parallel(n_jobs=-1)]: Done   5 tasks      | elapsed:    0.1s\n",
      "[Parallel(n_jobs=-1)]: Done   7 out of  12 | elapsed:    0.1s remaining:    0.0s\n",
      "[Parallel(n_jobs=-1)]: Done   9 out of  12 | elapsed:    0.1s remaining:    0.0s\n",
      "[Parallel(n_jobs=-1)]: Done  12 out of  12 | elapsed:    0.1s finished\n",
      "C:\\Users\\Eric\\anaconda3\\envs\\learn-env\\lib\\site-packages\\sklearn\\model_selection\\_search.py:847: FutureWarning: The parameter 'iid' is deprecated in 0.22 and will be removed in 0.24.\n",
      "  warnings.warn(\n"
     ]
    },
    {
     "name": "stdout",
     "output_type": "stream",
     "text": [
      "Best score: -0.355\n",
      "Best parameters set:\n",
      "\tnb__alpha: 0.1\n"
     ]
    }
   ],
   "source": [
    "#Now try optimizing Naive Bayes\n",
    "\n",
    "nb_model = MultinomialNB()\n",
    "\n",
    "# Create the pipeline \n",
    "clf = pipeline.Pipeline([('nb', nb_model)])\n",
    "\n",
    "# parameter grid\n",
    "param_grid = {'nb__alpha': [0.001, 0.01, 0.1, 1, 10, 100]}\n",
    "\n",
    "# Initialize Grid Search Model\n",
    "model = GridSearchCV(estimator=clf, param_grid=param_grid, scoring=basic_scorer,\n",
    "                                 verbose=10, n_jobs=-1, iid=True, refit=True, cv=2)\n",
    "\n",
    "# Fit Grid Search Model\n",
    "model.fit(xtrain_tfv, ytrain)  # we can use the full data here but im only using xtrain. \n",
    "print(\"Best score: %0.3f\" % model.best_score_)\n",
    "print(\"Best parameters set:\")\n",
    "best_parameters = model.best_estimator_.get_params()\n",
    "for param_name in sorted(param_grid.keys()):\n",
    "    print(\"\\t%s: %r\" % (param_name, best_parameters[param_name]))"
   ]
  },
  {
   "cell_type": "markdown",
   "metadata": {},
   "source": [
    "# Pretrained Models"
   ]
  },
  {
   "cell_type": "code",
   "execution_count": 84,
   "metadata": {},
   "outputs": [],
   "source": [
    "# Some set-up # We can limit the GloVe data to our total vocabulary in question to avoid some encoding issues from glove\n",
    "#total_vocabulary = set(word for headline in data for word in headline)"
   ]
  },
  {
   "cell_type": "markdown",
   "metadata": {},
   "source": [
    "# GloVe vectors from here:\n",
    "http://www-nlp.stanford.edu/data/glove.840B.300d.zip\n",
    "Jeffrey Pennington, Richard Socher, and Christopher D. Manning. 2014.   \n",
    "GloVe: Global Vectors for Word Representation. "
   ]
  },
  {
   "cell_type": "code",
   "execution_count": 26,
   "metadata": {},
   "outputs": [
    {
     "name": "stderr",
     "output_type": "stream",
     "text": [
      "2196017it [03:40, 9954.22it/s] "
     ]
    },
    {
     "name": "stdout",
     "output_type": "stream",
     "text": [
      "Found 2196016 word vectors.\n"
     ]
    },
    {
     "name": "stderr",
     "output_type": "stream",
     "text": [
      "\n"
     ]
    }
   ],
   "source": [
    "# load the GloVe vectors in a dictionary:\n",
    "GLOVE_PATH = 'E:\\Downloads\\glove.840B.300d/glove.840B.300d.txt'\n",
    "# class IncrementalDecoder(codecs.IncrementalDecoder):\n",
    "#     def decode(self, input, final=False):\n",
    "#         return codecs.charmap_decode(input,self.errors,decoding_table)[0]\n",
    "\n",
    "\n",
    "'''with open('glove.6B.50d.txt', 'rb') as f:\n",
    "    for line in f:\n",
    "        parts = line.split()\n",
    "        word = parts[0].decode('utf-8')\n",
    "        if word in total_vocabulary:\n",
    "            vector = np.array(parts[1:], dtype=np.float32)\n",
    "            glove[word] = vector'''\n",
    "\n",
    "embeddings_index = {}\n",
    "with open(GLOVE_PATH, 'rb') as f:\n",
    "    for line in tqdm(f):\n",
    "        #print(line)\n",
    "        parts = line.split()\n",
    "        word = parts[0].decode('utf-8')\n",
    "        try:\n",
    "            coefs = np.asarray(parts[1:], dtype=np.float32)\n",
    "        except BaseException as err:\n",
    "            print(err)\n",
    "            print(parts[0:10])\n",
    "        embeddings_index[word] = coefs\n",
    "    #f.close()\n",
    "\n",
    "print('Found %s word vectors.' % len(embeddings_index))"
   ]
  },
  {
   "cell_type": "code",
   "execution_count": 27,
   "metadata": {},
   "outputs": [],
   "source": [
    "# Found 2196016 word vectors.\n",
    "#parts"
   ]
  },
  {
   "cell_type": "code",
   "execution_count": 28,
   "metadata": {},
   "outputs": [],
   "source": [
    "# this function creates a normalized vector for the whole sentence\n",
    "def sent2vec(s):\n",
    "    words = str(s).lower()#.decode('utf-8')\n",
    "    words = word_tokenize(words)\n",
    "    words = [w for w in words if not w in stop_words]\n",
    "    words = [w for w in words if w.isalpha()]\n",
    "    M = []\n",
    "    for w in words:\n",
    "        try:\n",
    "            M.append(embeddings_index[w])\n",
    "        except:\n",
    "            continue\n",
    "    M = np.array(M)\n",
    "    v = M.sum(axis=0)\n",
    "    if type(v) != np.ndarray:\n",
    "        return np.zeros(300)\n",
    "    return v / np.sqrt((v ** 2).sum())"
   ]
  },
  {
   "cell_type": "code",
   "execution_count": 29,
   "metadata": {},
   "outputs": [
    {
     "name": "stderr",
     "output_type": "stream",
     "text": [
      "100%|██████████| 15744/15744 [00:35<00:00, 440.21it/s]\n",
      "100%|██████████| 1750/1750 [00:03<00:00, 475.10it/s]\n"
     ]
    }
   ],
   "source": [
    "#original, non-looped\n",
    "xtrain_glove = [sent2vec(x) for x in tqdm(xtrain)]\n",
    "xvalid_glove = [sent2vec(x) for x in tqdm(xvalid)]"
   ]
  },
  {
   "cell_type": "code",
   "execution_count": 30,
   "metadata": {},
   "outputs": [],
   "source": [
    "xtrain_glove = np.array(xtrain_glove)\n",
    "xvalid_glove = np.array(xvalid_glove)"
   ]
  },
  {
   "cell_type": "code",
   "execution_count": 90,
   "metadata": {},
   "outputs": [],
   "source": [
    "# if not SINGLE_SOURCE:\n",
    "#     # create sentence vectors using the above function for training and validation set\n",
    "#     glove_sets = {}\n",
    "#     for i in range(len(suffixes)):\n",
    "#         xtrain, xvalid, ytrain, yvalid = select_split(splits[i])\n",
    "#         xtrain_glove = [sent2vec(x) for x in tqdm(xtrain)]\n",
    "#         xvalid_glove = [sent2vec(x) for x in tqdm(xvalid)]\n",
    "#         glove_sets[splits[i]] = [xtrain_glove, xvalid_glove]"
   ]
  },
  {
   "cell_type": "code",
   "execution_count": 91,
   "metadata": {},
   "outputs": [],
   "source": [
    "# if not SINGLE_SOURCE:\n",
    "#     for i in range(len(suffixes)):\n",
    "#         xtrain_glovet = glove_sets[splits[i]][0]\n",
    "#         xvalid_glovet = glove_sets[splits[i]][1]\n",
    "#         xtrain_glovet = np.array(xtrain_glovet)\n",
    "#         xvalid_glovet = np.array(xvalid_glovet)\n",
    "#         glove_sets[splits[i]][0] = xtrain_glovet\n",
    "#         glove_sets[splits[i]][1] = xvalid_glovet"
   ]
  },
  {
   "cell_type": "markdown",
   "metadata": {},
   "source": [
    "Check the performance of xgboost on glove features:`"
   ]
  },
  {
   "cell_type": "code",
   "execution_count": 95,
   "metadata": {},
   "outputs": [
    {
     "name": "stderr",
     "output_type": "stream",
     "text": [
      "C:\\Users\\Eric\\anaconda3\\envs\\learn-env\\lib\\site-packages\\xgboost\\sklearn.py:1224: UserWarning: The use of label encoder in XGBClassifier is deprecated and will be removed in a future release. To remove this warning, do the following: 1) Pass option use_label_encoder=False when constructing XGBClassifier object; and 2) Encode your labels (y) as integers starting with 0, i.e. 0, 1, 2, ..., [num_class - 1].\n",
      "  warnings.warn(label_encoder_deprecation_msg, UserWarning)\n"
     ]
    },
    {
     "name": "stdout",
     "output_type": "stream",
     "text": [
      "[18:49:11] WARNING: ..\\src\\learner.cc:1115: Starting in XGBoost 1.3.0, the default evaluation metric used with the objective 'binary:logistic' was changed from 'error' to 'logloss'. Explicitly set eval_metric if you'd like to restore the old behavior.\n",
      "Scores for simple XGBoost on glove features on _raw data.\n",
      "Model Log-loss: 0.500 \n",
      "Model F1 score: 0.818 \n",
      "Model Accuracy score: 0.787 \n",
      "Naive ROC AUC=0.500\n",
      "Model ROC AUC=0.865\n"
     ]
    },
    {
     "data": {
      "image/png": "[encoded data removed]",
      "text/plain": [
       "<Figure size 432x288 with 1 Axes>"
      ]
     },
     "metadata": {
      "needs_background": "light"
     },
     "output_type": "display_data"
    }
   ],
   "source": [
    "# Fit a simple xgboost on glove features\n",
    "clf = xgb.XGBClassifier(nthread=10)#, silent=False)\n",
    "clf.fit(xtrain_glove, ytrain)\n",
    "predictions = clf.predict_proba(xvalid_glove)\n",
    "bin_preds = clf.predict(xvalid_glove)\n",
    "\n",
    "\n",
    "# print (\"logloss: %0.3f \" % log_loss(yvalid, predictions))\n",
    "# print (\"f1 score: %0.3f \" % f1_score(yvalid, bin_preds))\n",
    "# print (\"Accuracy score: %0.3f \" % accuracy_score(yvalid, bin_preds))\n",
    "\n",
    "print('Scores for simple XGBoost on glove features on {} data.'.format(splits[suffix]))\n",
    "score_report(yvalid, predictions, bin_preds)"
   ]
  },
  {
   "cell_type": "code",
   "execution_count": 96,
   "metadata": {},
   "outputs": [
    {
     "name": "stderr",
     "output_type": "stream",
     "text": [
      "C:\\Users\\Eric\\anaconda3\\envs\\learn-env\\lib\\site-packages\\xgboost\\sklearn.py:1224: UserWarning: The use of label encoder in XGBClassifier is deprecated and will be removed in a future release. To remove this warning, do the following: 1) Pass option use_label_encoder=False when constructing XGBClassifier object; and 2) Encode your labels (y) as integers starting with 0, i.e. 0, 1, 2, ..., [num_class - 1].\n",
      "  warnings.warn(label_encoder_deprecation_msg, UserWarning)\n"
     ]
    },
    {
     "name": "stdout",
     "output_type": "stream",
     "text": [
      "[18:50:19] WARNING: ..\\src\\learner.cc:1115: Starting in XGBoost 1.3.0, the default evaluation metric used with the objective 'binary:logistic' was changed from 'error' to 'logloss'. Explicitly set eval_metric if you'd like to restore the old behavior.\n",
      "Scores for slightly more tuned XGBoost on glove features on _raw data.\n",
      "Model Log-loss: 0.440 \n",
      "Model F1 score: 0.833 \n",
      "Model Accuracy score: 0.805 \n",
      "Naive ROC AUC=0.500\n",
      "Model ROC AUC=0.885\n"
     ]
    },
    {
     "data": {
      "image/png": "[encoded data removed]",
      "text/plain": [
       "<Figure size 432x288 with 1 Axes>"
      ]
     },
     "metadata": {
      "needs_background": "light"
     },
     "output_type": "display_data"
    }
   ],
   "source": [
    "# Fit a slightly less simple xgboost on glove features\n",
    "clf = xgb.XGBClassifier(max_depth=7, n_estimators=200, colsample_bytree=0.8, \n",
    "                        subsample=0.8, nthread=10, learning_rate=0.1) #silent=False\n",
    "clf.fit(xtrain_glove, ytrain)\n",
    "predictions = clf.predict_proba(xvalid_glove)\n",
    "bin_preds = clf.predict(xvalid_glove)\n",
    "\n",
    "# print (\"logloss: %0.3f \" % log_loss(yvalid, predictions))\n",
    "# print (\"f1 score: %0.3f \" % f1_score(yvalid, bin_preds))\n",
    "# print (\"Accuracy score: %0.3f \" % accuracy_score(yvalid, bin_preds))\n",
    "\n",
    "print('Scores for slightly more tuned XGBoost on glove features on {} data.'.format(splits[suffix]))\n",
    "score_report(yvalid, predictions, bin_preds)"
   ]
  },
  {
   "cell_type": "code",
   "execution_count": 94,
   "metadata": {},
   "outputs": [],
   "source": [
    "# a simple tuning of parameters can improve xgboost score on GloVe features!\n",
    "#but we can tune even more to improve further"
   ]
  },
  {
   "cell_type": "code",
   "execution_count": 101,
   "metadata": {},
   "outputs": [
    {
     "data": {
      "text/plain": [
       "dict_keys(['objective', 'use_label_encoder', 'base_score', 'booster', 'colsample_bylevel', 'colsample_bynode', 'colsample_bytree', 'enable_categorical', 'gamma', 'gpu_id', 'importance_type', 'interaction_constraints', 'learning_rate', 'max_delta_step', 'max_depth', 'min_child_weight', 'missing', 'monotone_constraints', 'n_estimators', 'n_jobs', 'num_parallel_tree', 'predictor', 'random_state', 'reg_alpha', 'reg_lambda', 'scale_pos_weight', 'subsample', 'tree_method', 'validate_parameters', 'verbosity'])"
      ]
     },
     "execution_count": 101,
     "metadata": {},
     "output_type": "execute_result"
    }
   ],
   "source": [
    "xgb_model.get_params().keys()"
   ]
  },
  {
   "cell_type": "code",
   "execution_count": 43,
   "metadata": {},
   "outputs": [
    {
     "data": {
      "text/plain": [
       "'#Now try optimizing Naive Bayes\\n\\nnb_model = MultinomialNB()\\n\\n# Create the pipeline \\nclf = pipeline.Pipeline([(\\'nb\\', nb_model)])\\n\\n# parameter grid\\nparam_grid = {\\'nb__alpha\\': [0.001, 0.01, 0.1, 1, 10, 100]}\\n\\n# Initialize Grid Search Model\\nmodel = GridSearchCV(estimator=clf, param_grid=param_grid, scoring=basic_scorer,\\n                                 verbose=10, n_jobs=-1, iid=True, refit=True, cv=2)\\n\\n# Fit Grid Search Model\\nmodel.fit(xtrain_tfv, ytrain)  # we can use the full data here but im only using xtrain. \\nprint(\"Best score: %0.3f\" % model.best_score_)\\nprint(\"Best parameters set:\")\\nbest_parameters = model.best_estimator_.get_params()\\nfor param_name in sorted(param_grid.keys()):\\n    print(\"\\t%s: %r\" % (param_name, best_parameters[param_name]))'"
      ]
     },
     "execution_count": 43,
     "metadata": {},
     "output_type": "execute_result"
    }
   ],
   "source": [
    "'''#Now try optimizing Naive Bayes\n",
    "\n",
    "nb_model = MultinomialNB()\n",
    "\n",
    "# Create the pipeline \n",
    "clf = pipeline.Pipeline([('nb', nb_model)])\n",
    "\n",
    "# parameter grid\n",
    "param_grid = {'nb__alpha': [0.001, 0.01, 0.1, 1, 10, 100]}\n",
    "\n",
    "# Initialize Grid Search Model\n",
    "model = GridSearchCV(estimator=clf, param_grid=param_grid, scoring=basic_scorer,\n",
    "                                 verbose=10, n_jobs=-1, iid=True, refit=True, cv=2)\n",
    "\n",
    "# Fit Grid Search Model\n",
    "model.fit(xtrain_tfv, ytrain)  # we can use the full data here but im only using xtrain. \n",
    "print(\"Best score: %0.3f\" % model.best_score_)\n",
    "print(\"Best parameters set:\")\n",
    "best_parameters = model.best_estimator_.get_params()\n",
    "for param_name in sorted(param_grid.keys()):\n",
    "    print(\"\\t%s: %r\" % (param_name, best_parameters[param_name]))'''"
   ]
  },
  {
   "cell_type": "code",
   "execution_count": null,
   "metadata": {},
   "outputs": [
    {
     "name": "stderr",
     "output_type": "stream",
     "text": [
      "[Parallel(n_jobs=-1)]: Using backend LokyBackend with 4 concurrent workers.\n"
     ]
    },
    {
     "name": "stdout",
     "output_type": "stream",
     "text": [
      "Fitting 2 folds for each of 324 candidates, totalling 648 fits\n"
     ]
    },
    {
     "name": "stderr",
     "output_type": "stream",
     "text": [
      "[Parallel(n_jobs=-1)]: Done   5 tasks      | elapsed:   40.2s\n",
      "[Parallel(n_jobs=-1)]: Done  10 tasks      | elapsed:  1.1min\n",
      "[Parallel(n_jobs=-1)]: Done  17 tasks      | elapsed:  2.1min\n",
      "[Parallel(n_jobs=-1)]: Done  24 tasks      | elapsed:  2.6min\n",
      "[Parallel(n_jobs=-1)]: Done  33 tasks      | elapsed:  3.8min\n",
      "[Parallel(n_jobs=-1)]: Done  42 tasks      | elapsed:  4.5min\n",
      "[Parallel(n_jobs=-1)]: Done  53 tasks      | elapsed:  5.8min\n",
      "[Parallel(n_jobs=-1)]: Done  64 tasks      | elapsed:  6.7min\n",
      "[Parallel(n_jobs=-1)]: Done  77 tasks      | elapsed:  8.2min\n",
      "[Parallel(n_jobs=-1)]: Done  90 tasks      | elapsed:  9.7min\n",
      "[Parallel(n_jobs=-1)]: Done 105 tasks      | elapsed: 11.2min\n",
      "[Parallel(n_jobs=-1)]: Done 120 tasks      | elapsed: 12.7min\n",
      "[Parallel(n_jobs=-1)]: Done 137 tasks      | elapsed: 14.6min\n",
      "[Parallel(n_jobs=-1)]: Done 154 tasks      | elapsed: 16.1min\n",
      "[Parallel(n_jobs=-1)]: Done 173 tasks      | elapsed: 18.3min\n",
      "[Parallel(n_jobs=-1)]: Done 192 tasks      | elapsed: 20.2min\n",
      "[Parallel(n_jobs=-1)]: Done 213 tasks      | elapsed: 22.4min\n",
      "[Parallel(n_jobs=-1)]: Done 234 tasks      | elapsed: 25.9min\n",
      "[Parallel(n_jobs=-1)]: Done 257 tasks      | elapsed: 29.5min\n",
      "[Parallel(n_jobs=-1)]: Done 280 tasks      | elapsed: 33.1min\n",
      "[Parallel(n_jobs=-1)]: Done 305 tasks      | elapsed: 37.8min\n",
      "[Parallel(n_jobs=-1)]: Done 330 tasks      | elapsed: 41.2min\n",
      "[Parallel(n_jobs=-1)]: Done 357 tasks      | elapsed: 46.2min\n",
      "[Parallel(n_jobs=-1)]: Done 384 tasks      | elapsed: 50.0min\n",
      "[Parallel(n_jobs=-1)]: Done 413 tasks      | elapsed: 55.7min\n"
     ]
    }
   ],
   "source": [
    "#Now try optimizing XGBoost a bit\n",
    "\n",
    "xgb_model = xgb.XGBClassifier()\n",
    "\n",
    "# Create the pipeline \n",
    "clf = pipeline.Pipeline([('xgb', xgb_model)])\n",
    "\n",
    "# parameter grid\n",
    "'''max_depth=7, n_estimators=200, colsample_bytree=0.8, \n",
    "                        subsample=0.8, nthread=10, learning_rate=0.1'''\n",
    "param_grid = {\"xgb__learning_rate\"    : [0.05, 0.10, 0.20] ,\n",
    " \"xgb__max_depth\"        : [ 6, 8, 10],\n",
    " \"xgb__min_child_weight\" : [ 1, 3, 6 ],\n",
    " \"xgb__gamma\"            : [ 0.0, 0.1, 0.2 , 0.4 ],\n",
    " \"xgb__colsample_bytree\" : [ 0.3, 0.5, 0.7] }                \n",
    "\n",
    "# Initialize Grid Search Model\n",
    "model = GridSearchCV(estimator=clf, param_grid=param_grid, scoring=basic_scorer,\n",
    "                                 verbose=10, n_jobs=-1, iid=True, refit=True, cv=2)\n",
    "\n",
    "# Fit Grid Search Model\n",
    "model.fit(xtrain_glove, ytrain) \n",
    "print(\"Best score: %0.3f\" % model.best_score_)\n",
    "print(\"Best parameters set:\")\n",
    "best_parameters = model.best_estimator_.get_params()\n",
    "for param_name in sorted(param_grid.keys()):\n",
    "    print(\"\\t%s: %r\" % (param_name, best_parameters[param_name]))\n",
    "\n",
    "###probably need to set features\n",
    "predictions = clf.predict_proba(xvalid_glove)\n",
    "bin_preds = clf.predict(xvalid_glove)\n",
    "print('Scores for gridsearched XGBoost on glove features on {} data.'.format(splits[suffix]))\n",
    "score_report(yvalid, predictions, bin_preds)"
   ]
  },
  {
   "cell_type": "markdown",
   "metadata": {},
   "source": [
    "# Deep Learning  \n",
    "LSTM and dense network\n",
    "ADD GRU"
   ]
  },
  {
   "cell_type": "code",
   "execution_count": null,
   "metadata": {},
   "outputs": [],
   "source": [
    "# scale the data before any neural net:\n",
    "scl = preprocessing.StandardScaler()\n",
    "xtrain_glove_scl = scl.fit_transform(xtrain_glove)\n",
    "xvalid_glove_scl = scl.transform(xvalid_glove)"
   ]
  },
  {
   "cell_type": "code",
   "execution_count": 45,
   "metadata": {},
   "outputs": [],
   "source": [
    "# # looped if we want to inspect the different cleaning levels\n",
    "# glovescls = {}\n",
    "# for i in range(len(suffixes)):\n",
    "#     xtrain_glovel, xvalid_glovel = glove_sets[splits[i]][0], glove_sets[splits[i]][1]\n",
    "    \n",
    "#     scl = preprocessing.StandardScaler()\n",
    "#     xtrain_glove_scll = scl.fit_transform(xtrain_glove)\n",
    "#     xvalid_glove_scll = scl.transform(xvalid_glove)\n",
    "    \n",
    "#     glovescls[splits[i]] = [xtrain_glove_scll, xvalid_glove_scll]\n"
   ]
  },
  {
   "cell_type": "code",
   "execution_count": 51,
   "metadata": {},
   "outputs": [
    {
     "data": {
      "text/plain": [
       "(15744, 300)"
      ]
     },
     "metadata": {},
     "output_type": "display_data"
    },
    {
     "data": {
      "text/plain": [
       "(1750, 300)"
      ]
     },
     "execution_count": 51,
     "metadata": {},
     "output_type": "execute_result"
    }
   ],
   "source": [
    "display(xtrain_glove_scl.shape)\n",
    "xvalid_glove_scl.shape"
   ]
  },
  {
   "cell_type": "code",
   "execution_count": 52,
   "metadata": {},
   "outputs": [
    {
     "data": {
      "text/plain": [
       "(15744,)"
      ]
     },
     "execution_count": 52,
     "metadata": {},
     "output_type": "execute_result"
    }
   ],
   "source": [
    "ytrain.shape"
   ]
  },
  {
   "cell_type": "code",
   "execution_count": 53,
   "metadata": {},
   "outputs": [
    {
     "data": {
      "text/plain": [
       "array([0, 0, 1, ..., 0, 1, 0], dtype=int64)"
      ]
     },
     "execution_count": 53,
     "metadata": {},
     "output_type": "execute_result"
    }
   ],
   "source": [
    "ytrain"
   ]
  },
  {
   "cell_type": "code",
   "execution_count": 54,
   "metadata": {},
   "outputs": [
    {
     "data": {
      "text/plain": [
       "(1750,)"
      ]
     },
     "execution_count": 54,
     "metadata": {},
     "output_type": "execute_result"
    }
   ],
   "source": [
    "yvalid.shape"
   ]
  },
  {
   "cell_type": "code",
   "execution_count": null,
   "metadata": {},
   "outputs": [],
   "source": [
    "# we need to binarize the labels for the neural net\n",
    "ytrain_enc = np_utils.to_categorical(ytrain)\n",
    "yvalid_enc = np_utils.to_categorical(yvalid)"
   ]
  },
  {
   "cell_type": "code",
   "execution_count": null,
   "metadata": {},
   "outputs": [],
   "source": [
    "display(ytrain_enc.shape)\n",
    "display(yvalid_enc.shape)\n",
    "ytrain_enc"
   ]
  },
  {
   "cell_type": "code",
   "execution_count": 120,
   "metadata": {},
   "outputs": [
    {
     "name": "stdout",
     "output_type": "stream",
     "text": [
      "for set _raw\n",
      "Epoch 1/20\n",
      "246/246 [==============================] - 1s 5ms/step - loss: 0.6839 - val_loss: 0.6835\n",
      "Epoch 2/20\n",
      "246/246 [==============================] - 1s 5ms/step - loss: 0.6837 - val_loss: 0.6844\n",
      "Epoch 3/20\n",
      "246/246 [==============================] - 1s 4ms/step - loss: 0.6837 - val_loss: 0.6835\n",
      "Epoch 4/20\n",
      "246/246 [==============================] - 1s 4ms/step - loss: 0.6838 - val_loss: 0.6837\n",
      "Epoch 5/20\n",
      "246/246 [==============================] - 1s 4ms/step - loss: 0.6837 - val_loss: 0.6834\n",
      "Epoch 6/20\n",
      "246/246 [==============================] - 1s 4ms/step - loss: 0.6836 - val_loss: 0.6835\n",
      "Epoch 7/20\n",
      "246/246 [==============================] - 1s 4ms/step - loss: 0.6835 - val_loss: 0.6834\n",
      "Epoch 8/20\n",
      "246/246 [==============================] - 1s 4ms/step - loss: 0.6837 - val_loss: 0.6834\n",
      "Epoch 9/20\n",
      "246/246 [==============================] - 1s 4ms/step - loss: 0.6838 - val_loss: 0.6835\n",
      "Epoch 10/20\n",
      "246/246 [==============================] - 1s 4ms/step - loss: 0.6837 - val_loss: 0.6836\n",
      "Epoch 11/20\n",
      "246/246 [==============================] - 1s 4ms/step - loss: 0.6836 - val_loss: 0.6837\n",
      "Epoch 12/20\n",
      "246/246 [==============================] - 1s 4ms/step - loss: 0.6838 - val_loss: 0.6835\n",
      "Epoch 13/20\n",
      "246/246 [==============================] - 1s 4ms/step - loss: 0.6836 - val_loss: 0.6834\n",
      "Epoch 14/20\n",
      "246/246 [==============================] - 1s 4ms/step - loss: 0.6836 - val_loss: 0.6834\n",
      "Epoch 15/20\n",
      "246/246 [==============================] - 1s 4ms/step - loss: 0.6836 - val_loss: 0.6839\n",
      "Epoch 16/20\n",
      "246/246 [==============================] - 1s 4ms/step - loss: 0.6836 - val_loss: 0.6835\n",
      "Epoch 17/20\n",
      "246/246 [==============================] - 1s 4ms/step - loss: 0.6837 - val_loss: 0.6834\n",
      "Epoch 18/20\n",
      "246/246 [==============================] - 1s 4ms/step - loss: 0.6836 - val_loss: 0.6834\n",
      "Epoch 19/20\n",
      "246/246 [==============================] - 1s 4ms/step - loss: 0.6835 - val_loss: 0.6834\n",
      "Epoch 20/20\n",
      "246/246 [==============================] - 1s 4ms/step - loss: 0.6835 - val_loss: 0.6835\n",
      "for set _cln\n",
      "Epoch 1/20\n",
      "246/246 [==============================] - 1s 5ms/step - loss: 0.6844 - val_loss: 0.6847\n",
      "Epoch 2/20\n",
      "246/246 [==============================] - 1s 4ms/step - loss: 0.6839 - val_loss: 0.6836\n",
      "Epoch 3/20\n",
      "246/246 [==============================] - 1s 4ms/step - loss: 0.6838 - val_loss: 0.6839\n",
      "Epoch 4/20\n",
      "246/246 [==============================] - 1s 4ms/step - loss: 0.6836 - val_loss: 0.6835\n",
      "Epoch 5/20\n",
      "246/246 [==============================] - 1s 4ms/step - loss: 0.6837 - val_loss: 0.6834\n",
      "Epoch 6/20\n",
      "246/246 [==============================] - 1s 4ms/step - loss: 0.6837 - val_loss: 0.6834\n",
      "Epoch 7/20\n",
      "246/246 [==============================] - 1s 4ms/step - loss: 0.6837 - val_loss: 0.6834\n",
      "Epoch 8/20\n",
      "246/246 [==============================] - 1s 4ms/step - loss: 0.6836 - val_loss: 0.6834\n",
      "Epoch 9/20\n",
      "246/246 [==============================] - 1s 4ms/step - loss: 0.6835 - val_loss: 0.6834\n",
      "Epoch 10/20\n",
      "246/246 [==============================] - 1s 4ms/step - loss: 0.6836 - val_loss: 0.6834\n",
      "Epoch 11/20\n",
      "246/246 [==============================] - 1s 4ms/step - loss: 0.6836 - val_loss: 0.6839\n",
      "Epoch 12/20\n",
      "246/246 [==============================] - 1s 4ms/step - loss: 0.6836 - val_loss: 0.6834\n",
      "Epoch 13/20\n",
      "246/246 [==============================] - 1s 4ms/step - loss: 0.6835 - val_loss: 0.6835\n",
      "Epoch 14/20\n",
      "246/246 [==============================] - 1s 4ms/step - loss: 0.6836 - val_loss: 0.6834\n",
      "Epoch 15/20\n",
      "246/246 [==============================] - 1s 4ms/step - loss: 0.6837 - val_loss: 0.6837\n",
      "Epoch 16/20\n",
      "246/246 [==============================] - 1s 4ms/step - loss: 0.6836 - val_loss: 0.6837\n",
      "Epoch 17/20\n",
      "246/246 [==============================] - 1s 4ms/step - loss: 0.6835 - val_loss: 0.6834\n",
      "Epoch 18/20\n",
      "246/246 [==============================] - 1s 4ms/step - loss: 0.6836 - val_loss: 0.6835\n",
      "Epoch 19/20\n",
      "246/246 [==============================] - 1s 4ms/step - loss: 0.6835 - val_loss: 0.6834\n",
      "Epoch 20/20\n",
      "246/246 [==============================] - 1s 4ms/step - loss: 0.6836 - val_loss: 0.6835\n",
      "for set _lem\n",
      "Epoch 1/20\n",
      "246/246 [==============================] - 1s 4ms/step - loss: 0.6839 - val_loss: 0.6835\n",
      "Epoch 2/20\n",
      "246/246 [==============================] - 1s 4ms/step - loss: 0.6839 - val_loss: 0.6834\n",
      "Epoch 3/20\n",
      "246/246 [==============================] - 1s 4ms/step - loss: 0.6838 - val_loss: 0.6841\n",
      "Epoch 4/20\n",
      "246/246 [==============================] - 1s 4ms/step - loss: 0.6840 - val_loss: 0.6836\n",
      "Epoch 5/20\n",
      "246/246 [==============================] - 1s 4ms/step - loss: 0.6837 - val_loss: 0.6838\n",
      "Epoch 6/20\n",
      "246/246 [==============================] - 1s 4ms/step - loss: 0.6839 - val_loss: 0.6835\n",
      "Epoch 7/20\n",
      "246/246 [==============================] - 1s 4ms/step - loss: 0.6838 - val_loss: 0.6835\n",
      "Epoch 8/20\n",
      "246/246 [==============================] - 1s 4ms/step - loss: 0.6836 - val_loss: 0.6835\n",
      "Epoch 9/20\n",
      "246/246 [==============================] - 1s 4ms/step - loss: 0.6836 - val_loss: 0.6834\n",
      "Epoch 10/20\n",
      "246/246 [==============================] - 1s 4ms/step - loss: 0.6837 - val_loss: 0.6834\n",
      "Epoch 11/20\n",
      "246/246 [==============================] - 1s 4ms/step - loss: 0.6836 - val_loss: 0.6834\n",
      "Epoch 12/20\n",
      "246/246 [==============================] - 1s 4ms/step - loss: 0.6836 - val_loss: 0.6835\n",
      "Epoch 13/20\n",
      "246/246 [==============================] - 1s 4ms/step - loss: 0.6839 - val_loss: 0.6834\n",
      "Epoch 14/20\n",
      "246/246 [==============================] - 1s 4ms/step - loss: 0.6835 - val_loss: 0.6837\n",
      "Epoch 15/20\n",
      "246/246 [==============================] - 1s 4ms/step - loss: 0.6834 - val_loss: 0.6837\n",
      "Epoch 16/20\n",
      "246/246 [==============================] - 1s 4ms/step - loss: 0.6837 - val_loss: 0.6834\n",
      "Epoch 17/20\n",
      "246/246 [==============================] - 1s 4ms/step - loss: 0.6836 - val_loss: 0.6835\n",
      "Epoch 18/20\n",
      "246/246 [==============================] - 1s 4ms/step - loss: 0.6836 - val_loss: 0.6834\n",
      "Epoch 19/20\n",
      "246/246 [==============================] - 1s 4ms/step - loss: 0.6835 - val_loss: 0.6834\n",
      "Epoch 20/20\n",
      "246/246 [==============================] - 1s 4ms/step - loss: 0.6835 - val_loss: 0.6837\n",
      "for set _stm\n",
      "Epoch 1/20\n",
      "246/246 [==============================] - 1s 4ms/step - loss: 0.6839 - val_loss: 0.6834\n",
      "Epoch 2/20\n",
      "246/246 [==============================] - 1s 4ms/step - loss: 0.6839 - val_loss: 0.6836\n",
      "Epoch 3/20\n",
      "246/246 [==============================] - 1s 4ms/step - loss: 0.6836 - val_loss: 0.6834\n",
      "Epoch 4/20\n",
      "246/246 [==============================] - 1s 4ms/step - loss: 0.6837 - val_loss: 0.6834\n",
      "Epoch 5/20\n",
      "246/246 [==============================] - 1s 4ms/step - loss: 0.6837 - val_loss: 0.6837\n",
      "Epoch 6/20\n",
      "246/246 [==============================] - 1s 4ms/step - loss: 0.6838 - val_loss: 0.6834\n",
      "Epoch 7/20\n",
      "246/246 [==============================] - 1s 4ms/step - loss: 0.6835 - val_loss: 0.6834\n",
      "Epoch 8/20\n",
      "246/246 [==============================] - 1s 4ms/step - loss: 0.6837 - val_loss: 0.6834\n",
      "Epoch 9/20\n",
      "246/246 [==============================] - 1s 4ms/step - loss: 0.6836 - val_loss: 0.6836\n",
      "Epoch 10/20\n",
      "246/246 [==============================] - 1s 4ms/step - loss: 0.6837 - val_loss: 0.6835\n",
      "Epoch 11/20\n",
      "246/246 [==============================] - 1s 4ms/step - loss: 0.6837 - val_loss: 0.6834\n",
      "Epoch 12/20\n",
      "246/246 [==============================] - 1s 4ms/step - loss: 0.6835 - val_loss: 0.6835\n",
      "Epoch 13/20\n",
      "246/246 [==============================] - 1s 4ms/step - loss: 0.6837 - val_loss: 0.6834\n",
      "Epoch 14/20\n",
      "246/246 [==============================] - 1s 4ms/step - loss: 0.6837 - val_loss: 0.6834\n",
      "Epoch 15/20\n",
      "246/246 [==============================] - 1s 4ms/step - loss: 0.6836 - val_loss: 0.6834\n",
      "Epoch 16/20\n",
      "246/246 [==============================] - 1s 4ms/step - loss: 0.6836 - val_loss: 0.6834\n",
      "Epoch 17/20\n",
      "246/246 [==============================] - 1s 4ms/step - loss: 0.6835 - val_loss: 0.6835\n",
      "Epoch 18/20\n",
      "246/246 [==============================] - 1s 4ms/step - loss: 0.6836 - val_loss: 0.6835\n",
      "Epoch 19/20\n",
      "246/246 [==============================] - 1s 4ms/step - loss: 0.6835 - val_loss: 0.6837\n",
      "Epoch 20/20\n",
      "246/246 [==============================] - 1s 4ms/step - loss: 0.6836 - val_loss: 0.6836\n"
     ]
    }
   ],
   "source": [
    "if not SINGLE_SOURCE:\n",
    "    #looping through the different cleaning levels, if necessary\n",
    "    for i in range(len(suffixes)):\n",
    "        # create a 3 layer sequential neural net\n",
    "        model = Sequential()\n",
    "\n",
    "        model.add(Dense(300, input_dim=300, activation='relu'))\n",
    "        model.add(Dropout(0.2))\n",
    "        model.add(BatchNormalization())\n",
    "\n",
    "        model.add(Dense(300, activation='relu'))\n",
    "        model.add(Dropout(0.3))\n",
    "        model.add(BatchNormalization())\n",
    "\n",
    "        model.add(Dense(2))\n",
    "        model.add(Activation('softmax'))\n",
    "\n",
    "        # compile the model\n",
    "        model.compile(loss='binary_crossentropy', optimizer='adam')\n",
    "\n",
    "        xtrain_glove_scll, xvalid_glove_scll = glovescls[splits[i]][0], glovescls[splits[i]][1]\n",
    "        print('for set {}'.format(splits[i]))\n",
    "        model.fit(xtrain_glove_scll, y=ytrain_enc, batch_size=64, \n",
    "              epochs=20, verbose=1, \n",
    "              validation_data=(xvalid_glove_scll, yvalid_enc))"
   ]
  },
  {
   "cell_type": "code",
   "execution_count": 133,
   "metadata": {},
   "outputs": [],
   "source": [
    "# create a 3 layer sequential neural net\n",
    "model = Sequential()\n",
    "\n",
    "model.add(Dense(300, input_dim=300, activation='relu'))\n",
    "model.add(Dropout(0.2))\n",
    "model.add(BatchNormalization())\n",
    "\n",
    "model.add(Dense(300, activation='relu'))\n",
    "model.add(Dropout(0.3))\n",
    "model.add(BatchNormalization())\n",
    "\n",
    "model.add(Dense(2))\n",
    "model.add(Activation('softmax'))\n",
    "\n",
    "# compile the model\n",
    "model.compile(loss='binary_crossentropy', optimizer='adam')\n",
    "\n"
   ]
  },
  {
   "cell_type": "code",
   "execution_count": 134,
   "metadata": {},
   "outputs": [],
   "source": [
    "#not sure what i was doing here - this dimensionality doesn't work and we want scaled data anyway, as in the next cell\n",
    "# model.fit(xtrain, y=ytrain, batch_size=64, \n",
    "#           epochs=5, verbose=1, \n",
    "#           validation_data=(xvalid_glove_scl, yvalid_enc))"
   ]
  },
  {
   "cell_type": "code",
   "execution_count": 135,
   "metadata": {},
   "outputs": [
    {
     "name": "stdout",
     "output_type": "stream",
     "text": [
      "Epoch 1/10\n",
      "246/246 [==============================] - 1s 4ms/step - loss: 0.5399 - val_loss: 0.4248\n",
      "Epoch 2/10\n",
      "246/246 [==============================] - 1s 4ms/step - loss: 0.4087 - val_loss: 0.4053\n",
      "Epoch 3/10\n",
      "246/246 [==============================] - 1s 4ms/step - loss: 0.3781 - val_loss: 0.3916\n",
      "Epoch 4/10\n",
      "246/246 [==============================] - 1s 3ms/step - loss: 0.3553 - val_loss: 0.3924\n",
      "Epoch 5/10\n",
      "246/246 [==============================] - 1s 3ms/step - loss: 0.3359 - val_loss: 0.3981\n",
      "Epoch 6/10\n",
      "246/246 [==============================] - 1s 4ms/step - loss: 0.3168 - val_loss: 0.3947\n",
      "Epoch 7/10\n",
      "246/246 [==============================] - 1s 4ms/step - loss: 0.3034 - val_loss: 0.4066\n",
      "Epoch 8/10\n",
      "246/246 [==============================] - 1s 4ms/step - loss: 0.2871 - val_loss: 0.4162\n",
      "Epoch 9/10\n",
      "246/246 [==============================] - 1s 3ms/step - loss: 0.2747 - val_loss: 0.4054\n",
      "Epoch 10/10\n",
      "246/246 [==============================] - 1s 4ms/step - loss: 0.2571 - val_loss: 0.4304\n"
     ]
    },
    {
     "data": {
      "text/plain": [
       "<tensorflow.python.keras.callbacks.History at 0x220be679bb0>"
      ]
     },
     "execution_count": 135,
     "metadata": {},
     "output_type": "execute_result"
    }
   ],
   "source": [
    "model.fit(xtrain_glove_scl, y=ytrain_enc, batch_size=64, \n",
    "          epochs=8, verbose=1, \n",
    "          validation_data=(xvalid_glove_scl, yvalid_enc))"
   ]
  },
  {
   "cell_type": "code",
   "execution_count": 138,
   "metadata": {},
   "outputs": [],
   "source": [
    "# #predictions = model.predict_proba(xvalid_glove)\n",
    "# bin_preds = model.predict(xvalid_glove)\n",
    "# print('Scores for gridsearched XGBoost on glove features on {} data.'.format(splits[suffix]))\n",
    "# score_report(yvalid, predictions, bin_preds)"
   ]
  },
  {
   "cell_type": "markdown",
   "metadata": {},
   "source": [
    "So we can see that past epoch 4, we are overtraining.  Still, this is very quick and does rather well.  Let's tune the model architecture a bit and try again."
   ]
  },
  {
   "cell_type": "code",
   "execution_count": 139,
   "metadata": {},
   "outputs": [],
   "source": [
    "# create a 8 layer sequential neural net\n",
    "model = Sequential()\n",
    "\n",
    "model.add(Dense(300, input_dim=300, activation='relu'))\n",
    "model.add(Dropout(0.2))\n",
    "model.add(BatchNormalization())\n",
    "\n",
    "model.add(Dense(800, activation='relu'))\n",
    "model.add(Dropout(0.3))\n",
    "model.add(BatchNormalization())\n",
    "\n",
    "model.add(Dense(400, activation='relu'))\n",
    "model.add(Dropout(0.5))\n",
    "model.add(BatchNormalization())\n",
    "\n",
    "model.add(Dense(200, activation='relu'))\n",
    "model.add(Dropout(0.5))\n",
    "model.add(BatchNormalization())\n",
    "\n",
    "model.add(Dense(100, activation='relu'))\n",
    "model.add(Dropout(0.5))\n",
    "model.add(BatchNormalization())\n",
    "\n",
    "model.add(Dense(50, activation='relu'))\n",
    "model.add(Dropout(0.3))\n",
    "model.add(BatchNormalization())\n",
    "\n",
    "model.add(Dense(30, activation='relu'))\n",
    "model.add(Dropout(0.3))\n",
    "model.add(BatchNormalization())\n",
    "\n",
    "model.add(Dense(2))\n",
    "model.add(Activation('softmax'))\n",
    "\n",
    "# compile the model\n",
    "model.compile(loss='binary_crossentropy', optimizer='adam')"
   ]
  },
  {
   "cell_type": "code",
   "execution_count": 140,
   "metadata": {},
   "outputs": [
    {
     "name": "stdout",
     "output_type": "stream",
     "text": [
      "Epoch 1/15\n",
      "246/246 [==============================] - 3s 13ms/step - loss: 0.7227 - val_loss: 0.4980\n",
      "Epoch 2/15\n",
      "246/246 [==============================] - 3s 11ms/step - loss: 0.5089 - val_loss: 0.4250\n",
      "Epoch 3/15\n",
      "246/246 [==============================] - 3s 11ms/step - loss: 0.4480 - val_loss: 0.4046\n",
      "Epoch 4/15\n",
      "246/246 [==============================] - 3s 11ms/step - loss: 0.4185 - val_loss: 0.3972\n",
      "Epoch 5/15\n",
      "246/246 [==============================] - 3s 11ms/step - loss: 0.3996 - val_loss: 0.3879\n",
      "Epoch 6/15\n",
      "246/246 [==============================] - 3s 11ms/step - loss: 0.3852 - val_loss: 0.3855\n",
      "Epoch 7/15\n",
      "246/246 [==============================] - 3s 11ms/step - loss: 0.3666 - val_loss: 0.3874\n",
      "Epoch 8/15\n",
      "246/246 [==============================] - 3s 11ms/step - loss: 0.3567 - val_loss: 0.3903\n",
      "Epoch 9/15\n",
      "246/246 [==============================] - 3s 11ms/step - loss: 0.3448 - val_loss: 0.3803\n",
      "Epoch 10/15\n",
      "246/246 [==============================] - 3s 11ms/step - loss: 0.3290 - val_loss: 0.3963\n",
      "Epoch 11/15\n",
      "246/246 [==============================] - 3s 11ms/step - loss: 0.3119 - val_loss: 0.3968\n",
      "Epoch 12/15\n",
      "246/246 [==============================] - 3s 11ms/step - loss: 0.3053 - val_loss: 0.3834\n",
      "Epoch 13/15\n",
      "246/246 [==============================] - 3s 11ms/step - loss: 0.2921 - val_loss: 0.3978\n",
      "Epoch 14/15\n",
      "246/246 [==============================] - 3s 11ms/step - loss: 0.2822 - val_loss: 0.3998\n",
      "Epoch 15/15\n",
      "246/246 [==============================] - 3s 11ms/step - loss: 0.2745 - val_loss: 0.4098\n"
     ]
    },
    {
     "data": {
      "text/plain": [
       "<tensorflow.python.keras.callbacks.History at 0x21fd66ef7c0>"
      ]
     },
     "execution_count": 140,
     "metadata": {},
     "output_type": "execute_result"
    }
   ],
   "source": [
    "model.fit(xtrain_glove_scl, y=ytrain_enc, batch_size=64, \n",
    "          epochs=15, verbose=1, \n",
    "          validation_data=(xvalid_glove_scl, yvalid_enc))"
   ]
  },
  {
   "cell_type": "code",
   "execution_count": 141,
   "metadata": {},
   "outputs": [
    {
     "data": {
      "text/plain": [
       "['_raw', '_cln', '_lem', '_stm']"
      ]
     },
     "execution_count": 141,
     "metadata": {},
     "output_type": "execute_result"
    }
   ],
   "source": [
    "suffixes"
   ]
  },
  {
   "cell_type": "code",
   "execution_count": null,
   "metadata": {},
   "outputs": [],
   "source": [
    "xtrain = xtrain_raw\n",
    "xvalid = xvalid_raw\n",
    "\n",
    "xtrain_glove = [sent2vec(x) for x in tqdm(xtrain)]\n",
    "xvalid_glove = [sent2vec(x) for x in tqdm(xvalid)]\n",
    "\n",
    "scl = preprocessing.StandardScaler()\n",
    "xtrain_glove_scl = scl.fit_transform(xtrain_glove)\n",
    "xvalid_glove_scl = scl.transform(xvalid_glove)"
   ]
  },
  {
   "cell_type": "code",
   "execution_count": 154,
   "metadata": {},
   "outputs": [
    {
     "name": "stderr",
     "output_type": "stream",
     "text": [
      "100%|██████████| 15744/15744 [00:16<00:00, 972.48it/s] \n",
      "100%|██████████| 1750/1750 [00:01<00:00, 1145.34it/s]\n"
     ]
    },
    {
     "name": "stdout",
     "output_type": "stream",
     "text": [
      "Epoch 1/15\n",
      "246/246 [==============================] - 3s 12ms/step - loss: 0.8732 - val_loss: 0.6764\n",
      "Epoch 2/15\n",
      "246/246 [==============================] - 3s 11ms/step - loss: 0.6866 - val_loss: 0.6271\n",
      "Epoch 3/15\n",
      "246/246 [==============================] - 3s 12ms/step - loss: 0.5907 - val_loss: 0.5420\n",
      "Epoch 4/15\n",
      "246/246 [==============================] - 3s 11ms/step - loss: 0.5322 - val_loss: 0.4630\n",
      "Epoch 5/15\n",
      "246/246 [==============================] - 3s 11ms/step - loss: 0.4848 - val_loss: 0.4292\n",
      "Epoch 6/15\n",
      "246/246 [==============================] - 3s 11ms/step - loss: 0.4622 - val_loss: 0.4168\n",
      "Epoch 7/15\n",
      "246/246 [==============================] - 3s 11ms/step - loss: 0.4489 - val_loss: 0.4170\n",
      "Epoch 8/15\n",
      "246/246 [==============================] - 3s 11ms/step - loss: 0.4341 - val_loss: 0.4075\n",
      "Epoch 9/15\n",
      "246/246 [==============================] - 3s 11ms/step - loss: 0.4255 - val_loss: 0.4045\n",
      "Epoch 10/15\n",
      "246/246 [==============================] - 3s 11ms/step - loss: 0.4127 - val_loss: 0.3967\n",
      "Epoch 11/15\n",
      "246/246 [==============================] - 3s 11ms/step - loss: 0.4059 - val_loss: 0.3926\n",
      "Epoch 12/15\n",
      "246/246 [==============================] - 3s 11ms/step - loss: 0.3954 - val_loss: 0.3907\n",
      "Epoch 13/15\n",
      "246/246 [==============================] - 3s 11ms/step - loss: 0.3914 - val_loss: 0.3875\n",
      "Epoch 14/15\n",
      "246/246 [==============================] - 3s 11ms/step - loss: 0.3847 - val_loss: 0.3913\n",
      "Epoch 15/15\n",
      "246/246 [==============================] - 3s 11ms/step - loss: 0.3804 - val_loss: 0.3971\n"
     ]
    },
    {
     "data": {
      "text/plain": [
       "<tensorflow.python.keras.callbacks.History at 0x220e4eb2a00>"
      ]
     },
     "execution_count": 154,
     "metadata": {},
     "output_type": "execute_result"
    }
   ],
   "source": [
    "# testing 8 layer dense neural net with cleaned/stem/lem data\n",
    "#original, non-looped\n",
    "# create a 8 layer sequential neural net\n",
    "model = Sequential()\n",
    "\n",
    "model.add(Dense(300, input_dim=300, activation='relu'))\n",
    "model.add(Dropout(0.5))\n",
    "model.add(BatchNormalization())\n",
    "\n",
    "model.add(Dense(800, activation='relu'))\n",
    "model.add(Dropout(0.5))\n",
    "model.add(BatchNormalization())\n",
    "\n",
    "model.add(Dense(400, activation='relu'))\n",
    "model.add(Dropout(0.5))\n",
    "model.add(BatchNormalization())\n",
    "\n",
    "model.add(Dense(200, activation='relu'))\n",
    "model.add(Dropout(0.5))\n",
    "model.add(BatchNormalization())\n",
    "\n",
    "model.add(Dense(100, activation='relu'))\n",
    "model.add(Dropout(0.5))\n",
    "model.add(BatchNormalization())\n",
    "\n",
    "model.add(Dense(50, activation='relu'))\n",
    "model.add(Dropout(0.5))\n",
    "model.add(BatchNormalization())\n",
    "\n",
    "model.add(Dense(30, activation='relu'))\n",
    "model.add(Dropout(0.5))\n",
    "model.add(BatchNormalization())\n",
    "\n",
    "model.add(Dense(2))\n",
    "model.add(Activation('softmax'))\n",
    "\n",
    "# compile the model\n",
    "model.compile(loss='binary_crossentropy', optimizer='adam')\n",
    "\n",
    "model.fit(xtrain_glove_scl, y=ytrain_enc, batch_size=64, \n",
    "          epochs=15, verbose=1, \n",
    "          validation_data=(xvalid_glove_scl, yvalid_enc))"
   ]
  },
  {
   "cell_type": "code",
   "execution_count": null,
   "metadata": {},
   "outputs": [],
   "source": []
  },
  {
   "cell_type": "code",
   "execution_count": 64,
   "metadata": {},
   "outputs": [
    {
     "data": {
      "text/plain": [
       "\"You need to keep on tuning the parameters of the neural network, add more layers, \\nincrease dropout to get better results. Here, I'm just showing that its fast to implement and run and gets better \\nresult than xgboost without any optimization :)\\n\\nTo move further, i.e. with LSTMs we need to tokenize the text data\""
      ]
     },
     "execution_count": 64,
     "metadata": {},
     "output_type": "execute_result"
    }
   ],
   "source": [
    "'''You need to keep on tuning the parameters of the neural network, add more layers, \n",
    "increase dropout to get better results. Here, I'm just showing that its fast to implement and run and gets better \n",
    "result than xgboost without any optimization :)\n",
    "\n",
    "To move further, i.e. with LSTMs we need to tokenize the text data'''"
   ]
  },
  {
   "cell_type": "markdown",
   "metadata": {},
   "source": [
    "# LSTMs\n",
    "In order to work with these, we should tokenize the text data."
   ]
  },
  {
   "cell_type": "code",
   "execution_count": null,
   "metadata": {},
   "outputs": [],
   "source": [
    "# using keras tokenizer here\n",
    "token = text.Tokenizer(num_words=None)\n",
    "max_len = 70\n",
    "\n",
    "token.fit_on_texts(list(xtrain) + list(xvalid))\n",
    "xtrain_seq = token.texts_to_sequences(xtrain)\n",
    "xvalid_seq = token.texts_to_sequences(xvalid)\n",
    "\n",
    "# zero pad the sequences\n",
    "xtrain_pad = sequence.pad_sequences(xtrain_seq, maxlen=max_len)\n",
    "xvalid_pad = sequence.pad_sequences(xvalid_seq, maxlen=max_len)\n",
    "\n",
    "word_index = token.word_index"
   ]
  },
  {
   "cell_type": "code",
   "execution_count": null,
   "metadata": {},
   "outputs": [],
   "source": [
    "# create an embedding matrix for the words we have in the dataset\n",
    "embedding_matrix = np.zeros((len(word_index) + 1, 300))\n",
    "for word, i in tqdm(word_index.items()):\n",
    "    embedding_vector = embeddings_index.get(word)\n",
    "    if embedding_vector is not None:\n",
    "        embedding_matrix[i] = embedding_vector"
   ]
  },
  {
   "cell_type": "code",
   "execution_count": 161,
   "metadata": {},
   "outputs": [
    {
     "name": "stdout",
     "output_type": "stream",
     "text": [
      "Epoch 1/20\n",
      "31/31 [==============================] - 7s 215ms/step - loss: 0.7071 - val_loss: 0.6449\n",
      "Epoch 2/20\n",
      "31/31 [==============================] - 6s 209ms/step - loss: 0.6162 - val_loss: 0.5683\n",
      "Epoch 3/20\n",
      "31/31 [==============================] - 6s 203ms/step - loss: 0.5760 - val_loss: 0.5519\n",
      "Epoch 4/20\n",
      "31/31 [==============================] - 6s 205ms/step - loss: 0.5880 - val_loss: 0.5636\n",
      "Epoch 5/20\n",
      "31/31 [==============================] - 6s 206ms/step - loss: 0.5579 - val_loss: 0.5340\n",
      "Epoch 6/20\n",
      "31/31 [==============================] - 6s 201ms/step - loss: 0.5449 - val_loss: 0.5510\n",
      "Epoch 7/20\n",
      "31/31 [==============================] - 6s 202ms/step - loss: 0.5370 - val_loss: 0.5273\n",
      "Epoch 8/20\n",
      "31/31 [==============================] - 6s 201ms/step - loss: 0.5374 - val_loss: 0.5362\n",
      "Epoch 9/20\n",
      "31/31 [==============================] - 6s 203ms/step - loss: 0.5307 - val_loss: 0.5320\n",
      "Epoch 10/20\n",
      "31/31 [==============================] - 6s 203ms/step - loss: 0.5299 - val_loss: 0.5180\n",
      "Epoch 11/20\n",
      "31/31 [==============================] - 6s 206ms/step - loss: 0.5243 - val_loss: 0.5224\n",
      "Epoch 12/20\n",
      "31/31 [==============================] - 6s 207ms/step - loss: 0.5185 - val_loss: 0.5280\n",
      "Epoch 13/20\n",
      "31/31 [==============================] - 6s 203ms/step - loss: 0.5073 - val_loss: 0.5069\n",
      "Epoch 14/20\n",
      "31/31 [==============================] - 6s 201ms/step - loss: 0.5101 - val_loss: 0.5271\n",
      "Epoch 15/20\n",
      "31/31 [==============================] - 7s 211ms/step - loss: 0.5028 - val_loss: 0.5366\n",
      "Epoch 16/20\n",
      "31/31 [==============================] - 6s 209ms/step - loss: 0.4976 - val_loss: 0.4931\n",
      "Epoch 17/20\n",
      "31/31 [==============================] - 7s 213ms/step - loss: 0.4995 - val_loss: 0.5475\n",
      "Epoch 18/20\n",
      "31/31 [==============================] - 6s 207ms/step - loss: 0.4930 - val_loss: 0.5004\n",
      "Epoch 19/20\n",
      "31/31 [==============================] - 6s 202ms/step - loss: 0.4922 - val_loss: 0.4958\n",
      "Epoch 20/20\n",
      "31/31 [==============================] - 6s 193ms/step - loss: 0.4834 - val_loss: 0.4930\n"
     ]
    },
    {
     "data": {
      "text/plain": [
       "<tensorflow.python.keras.callbacks.History at 0x220eeee4c10>"
      ]
     },
     "execution_count": 161,
     "metadata": {},
     "output_type": "execute_result"
    }
   ],
   "source": [
    "# A basic RNN with glove embeddings and two dense layers - batch size 512\n",
    "model = Sequential()\n",
    "model.add(Embedding(len(word_index) + 1,\n",
    "                     300,\n",
    "                     weights=[embedding_matrix],\n",
    "                     input_length=max_len,\n",
    "                     trainable=False))\n",
    "model.add(SpatialDropout1D(0.3))\n",
    "model.add(SimpleRNN(100))\n",
    "\n",
    "model.add(Dense(1024, activation='relu'))\n",
    "model.add(Dropout(0.7))\n",
    "\n",
    "model.add(Dense(1024, activation='relu'))\n",
    "model.add(Dropout(0.7))\n",
    "\n",
    "model.add(Dense(2))\n",
    "model.add(Activation('softmax'))\n",
    "model.compile(loss='binary_crossentropy', optimizer='adam')\n",
    "\n",
    "# earlystop = EarlyStopping(monitor='val_loss', min_delta=0, patience=3, verbose=0, mode='auto')\n",
    "# model.fit(xtrain_pad, y=ytrain_enc, batch_size=512, epochs=100, \n",
    "#           verbose=1, validation_data=(xvalid_pad, yvalid_enc), callbacks=[earlystop])\n",
    "model.fit(xtrain_pad, y=ytrain_enc, batch_size=512, epochs=20, verbose=1, validation_data=(xvalid_pad, yvalid_enc))"
   ]
  },
  {
   "cell_type": "code",
   "execution_count": 160,
   "metadata": {},
   "outputs": [
    {
     "name": "stdout",
     "output_type": "stream",
     "text": [
      "Epoch 1/20\n",
      "246/246 [==============================] - 10s 41ms/step - loss: 0.6733 - val_loss: 0.6386\n",
      "Epoch 2/20\n",
      "246/246 [==============================] - 10s 39ms/step - loss: 0.5959 - val_loss: 0.5578\n",
      "Epoch 3/20\n",
      "246/246 [==============================] - 10s 40ms/step - loss: 0.5863 - val_loss: 0.5460\n",
      "Epoch 4/20\n",
      "246/246 [==============================] - 10s 40ms/step - loss: 0.5816 - val_loss: 0.5456\n",
      "Epoch 5/20\n",
      "246/246 [==============================] - 10s 39ms/step - loss: 0.5837 - val_loss: 0.6419\n",
      "Epoch 6/20\n",
      "246/246 [==============================] - 10s 39ms/step - loss: 0.6279 - val_loss: 0.6142\n",
      "Epoch 7/20\n",
      "246/246 [==============================] - 10s 39ms/step - loss: 0.6074 - val_loss: 0.5702\n",
      "Epoch 8/20\n",
      "246/246 [==============================] - 10s 39ms/step - loss: 0.5799 - val_loss: 0.6040\n",
      "Epoch 9/20\n",
      "246/246 [==============================] - 10s 39ms/step - loss: 0.5765 - val_loss: 0.6091\n",
      "Epoch 10/20\n",
      "246/246 [==============================] - 10s 40ms/step - loss: 0.5817 - val_loss: 0.6374\n",
      "Epoch 11/20\n",
      "246/246 [==============================] - 10s 39ms/step - loss: 0.5831 - val_loss: 0.5725\n",
      "Epoch 12/20\n",
      "246/246 [==============================] - 10s 39ms/step - loss: 0.5945 - val_loss: 0.6420\n",
      "Epoch 13/20\n",
      "246/246 [==============================] - 10s 39ms/step - loss: 0.6297 - val_loss: 0.6293\n",
      "Epoch 14/20\n",
      "246/246 [==============================] - 10s 39ms/step - loss: 0.6082 - val_loss: 0.6055\n",
      "Epoch 15/20\n",
      "246/246 [==============================] - 10s 39ms/step - loss: 0.5822 - val_loss: 0.5808\n",
      "Epoch 16/20\n",
      "246/246 [==============================] - 10s 40ms/step - loss: 0.5630 - val_loss: 0.5599\n",
      "Epoch 17/20\n",
      "246/246 [==============================] - 10s 39ms/step - loss: 0.6261 - val_loss: 0.6514\n",
      "Epoch 18/20\n",
      "246/246 [==============================] - 10s 40ms/step - loss: 0.6334 - val_loss: 0.6283\n",
      "Epoch 19/20\n",
      "246/246 [==============================] - 10s 39ms/step - loss: 0.6056 - val_loss: 0.6088\n",
      "Epoch 20/20\n",
      "246/246 [==============================] - 10s 40ms/step - loss: 0.5716 - val_loss: 0.5595\n"
     ]
    },
    {
     "data": {
      "text/plain": [
       "<tensorflow.python.keras.callbacks.History at 0x220c98da940>"
      ]
     },
     "execution_count": 160,
     "metadata": {},
     "output_type": "execute_result"
    }
   ],
   "source": [
    "# A basic RNN with glove embeddings and two dense layers - change batch size to 64 not 512\n",
    "model = Sequential()\n",
    "model.add(Embedding(len(word_index) + 1,\n",
    "                     300,\n",
    "                     weights=[embedding_matrix],\n",
    "                     input_length=max_len,\n",
    "                     trainable=False))\n",
    "model.add(SpatialDropout1D(0.3))\n",
    "model.add(SimpleRNN(100))\n",
    "\n",
    "model.add(Dense(1024, activation='relu'))\n",
    "model.add(Dropout(0.7))\n",
    "\n",
    "model.add(Dense(1024, activation='relu'))\n",
    "model.add(Dropout(0.7))\n",
    "\n",
    "model.add(Dense(2))\n",
    "model.add(Activation('softmax'))\n",
    "model.compile(loss='binary_crossentropy', optimizer='adam')\n",
    "\n",
    "# earlystop = EarlyStopping(monitor='val_loss', min_delta=0, patience=3, verbose=0, mode='auto')\n",
    "# model.fit(xtrain_pad, y=ytrain_enc, batch_size=512, epochs=100, \n",
    "#           verbose=1, validation_data=(xvalid_pad, yvalid_enc), callbacks=[earlystop])\n",
    "model.fit(xtrain_pad, y=ytrain_enc, batch_size=64, epochs=20, verbose=1, validation_data=(xvalid_pad, yvalid_enc))"
   ]
  },
  {
   "cell_type": "markdown",
   "metadata": {},
   "source": [
    "Interesting, reducing the batch size made loss worse.  There were seemingly not enough samples in each batch to settle in on one gradient direction."
   ]
  },
  {
   "cell_type": "markdown",
   "metadata": {},
   "source": [
    "Let's implement some early stopping going forward."
   ]
  },
  {
   "cell_type": "code",
   "execution_count": 71,
   "metadata": {},
   "outputs": [
    {
     "name": "stdout",
     "output_type": "stream",
     "text": [
      "Epoch 1/100\n",
      "31/31 [==============================] - 85s 3s/step - loss: 0.6705 - val_loss: 0.5380\n",
      "Epoch 2/100\n",
      "31/31 [==============================] - 85s 3s/step - loss: 0.5653 - val_loss: 0.4998\n",
      "Epoch 3/100\n",
      "31/31 [==============================] - 86s 3s/step - loss: 0.5294 - val_loss: 0.4684\n",
      "Epoch 4/100\n",
      "31/31 [==============================] - 86s 3s/step - loss: 0.5121 - val_loss: 0.4940\n",
      "Epoch 5/100\n",
      "31/31 [==============================] - 87s 3s/step - loss: 0.5103 - val_loss: 0.4747\n",
      "Epoch 6/100\n",
      "31/31 [==============================] - 87s 3s/step - loss: 0.4974 - val_loss: 0.4581\n",
      "Epoch 7/100\n",
      "31/31 [==============================] - 87s 3s/step - loss: 0.4794 - val_loss: 0.4381\n",
      "Epoch 8/100\n",
      "31/31 [==============================] - 87s 3s/step - loss: 0.4639 - val_loss: 0.4410\n",
      "Epoch 9/100\n",
      "31/31 [==============================] - 88s 3s/step - loss: 0.4645 - val_loss: 0.4153\n",
      "Epoch 10/100\n",
      "31/31 [==============================] - 88s 3s/step - loss: 0.4399 - val_loss: 0.4259\n",
      "Epoch 11/100\n",
      "31/31 [==============================] - 88s 3s/step - loss: 0.4375 - val_loss: 0.4046\n",
      "Epoch 12/100\n",
      "31/31 [==============================] - 88s 3s/step - loss: 0.4192 - val_loss: 0.3965\n",
      "Epoch 13/100\n",
      "31/31 [==============================] - 88s 3s/step - loss: 0.4171 - val_loss: 0.4029\n",
      "Epoch 14/100\n",
      "31/31 [==============================] - 88s 3s/step - loss: 0.3996 - val_loss: 0.4208\n",
      "Epoch 15/100\n",
      "31/31 [==============================] - 88s 3s/step - loss: 0.3858 - val_loss: 0.3898\n",
      "Epoch 16/100\n",
      "31/31 [==============================] - 88s 3s/step - loss: 0.3695 - val_loss: 0.3806\n",
      "Epoch 17/100\n",
      "31/31 [==============================] - 88s 3s/step - loss: 0.3631 - val_loss: 0.3910\n",
      "Epoch 18/100\n",
      "31/31 [==============================] - 88s 3s/step - loss: 0.3580 - val_loss: 0.3949\n",
      "Epoch 19/100\n",
      "31/31 [==============================] - 88s 3s/step - loss: 0.3447 - val_loss: 0.3732\n",
      "Epoch 20/100\n",
      "31/31 [==============================] - 88s 3s/step - loss: 0.3287 - val_loss: 0.3749\n",
      "Epoch 21/100\n",
      "31/31 [==============================] - 88s 3s/step - loss: 0.3293 - val_loss: 0.3887\n",
      "Epoch 22/100\n",
      "31/31 [==============================] - 88s 3s/step - loss: 0.3175 - val_loss: 0.3820\n"
     ]
    },
    {
     "data": {
      "text/plain": [
       "<tensorflow.python.keras.callbacks.History at 0x1f12ca9c100>"
      ]
     },
     "execution_count": 71,
     "metadata": {},
     "output_type": "execute_result"
    }
   ],
   "source": [
    "# A simple LSTM with glove embeddings and two dense layers\n",
    "model = Sequential()\n",
    "model.add(Embedding(len(word_index) + 1,\n",
    "                     300,\n",
    "                     weights=[embedding_matrix],\n",
    "                     input_length=max_len,\n",
    "                     trainable=False))\n",
    "model.add(SpatialDropout1D(0.3))\n",
    "model.add(LSTM(300, dropout=0.3, recurrent_dropout=0.3))\n",
    "\n",
    "model.add(Dense(1024, activation='relu'))\n",
    "model.add(Dropout(0.8))\n",
    "\n",
    "model.add(Dense(1024, activation='relu'))\n",
    "model.add(Dropout(0.8))\n",
    "\n",
    "model.add(Dense(2))\n",
    "model.add(Activation('softmax'))\n",
    "model.compile(loss='binary_crossentropy', optimizer='adam')\n",
    "\n",
    "# Fit the model with early stopping callback\n",
    "earlystop = EarlyStopping(monitor='val_loss', min_delta=0, patience=3, verbose=0, mode='auto')\n",
    "model.fit(xtrain_pad, y=ytrain_enc, batch_size=512, epochs=100, \n",
    "          verbose=1, validation_data=(xvalid_pad, yvalid_enc), callbacks=[earlystop])"
   ]
  },
  {
   "cell_type": "code",
   "execution_count": 72,
   "metadata": {},
   "outputs": [
    {
     "data": {
      "text/plain": [
       "\"One question could be: why do i use so much dropout? Well, fit the model with no or little dropout and you will that it starts to overfit :)\\n\\nLet's see if Bi-directional LSTM can give us better results. Its a piece of cake to do it with Keras :)\""
      ]
     },
     "execution_count": 72,
     "metadata": {},
     "output_type": "execute_result"
    }
   ],
   "source": [
    "'''One question could be: why do i use so much dropout? Well, fit the model with no or little dropout and you will that it starts to overfit :)\n",
    "\n",
    "Let's see if Bi-directional LSTM can give us better results. Its a piece of cake to do it with Keras :)'''"
   ]
  },
  {
   "cell_type": "code",
   "execution_count": 73,
   "metadata": {},
   "outputs": [
    {
     "name": "stdout",
     "output_type": "stream",
     "text": [
      "Epoch 1/50\n",
      "31/31 [==============================] - 184s 6s/step - loss: 0.6742 - val_loss: 0.5718\n",
      "Epoch 2/50\n",
      "31/31 [==============================] - 187s 6s/step - loss: 0.5806 - val_loss: 0.5213\n",
      "Epoch 3/50\n",
      "31/31 [==============================] - 195s 6s/step - loss: 0.5275 - val_loss: 0.4821\n",
      "Epoch 4/50\n",
      "31/31 [==============================] - 200s 6s/step - loss: 0.5040 - val_loss: 0.5003\n",
      "Epoch 5/50\n",
      "31/31 [==============================] - 204s 7s/step - loss: 0.4970 - val_loss: 0.5001\n",
      "Epoch 6/50\n",
      "31/31 [==============================] - 211s 7s/step - loss: 0.4772 - val_loss: 0.4459\n",
      "Epoch 7/50\n",
      "31/31 [==============================] - 213s 7s/step - loss: 0.4685 - val_loss: 0.4453\n",
      "Epoch 8/50\n",
      "31/31 [==============================] - 216s 7s/step - loss: 0.4577 - val_loss: 0.4370\n",
      "Epoch 9/50\n",
      "31/31 [==============================] - 216s 7s/step - loss: 0.4387 - val_loss: 0.4206\n",
      "Epoch 10/50\n",
      "31/31 [==============================] - 216s 7s/step - loss: 0.4280 - val_loss: 0.4233\n",
      "Epoch 11/50\n",
      "31/31 [==============================] - 217s 7s/step - loss: 0.4208 - val_loss: 0.4019\n",
      "Epoch 12/50\n",
      "31/31 [==============================] - 217s 7s/step - loss: 0.4027 - val_loss: 0.4174\n",
      "Epoch 13/50\n",
      "31/31 [==============================] - 218s 7s/step - loss: 0.3914 - val_loss: 0.4153\n",
      "Epoch 14/50\n",
      "31/31 [==============================] - 218s 7s/step - loss: 0.3902 - val_loss: 0.3904\n",
      "Epoch 15/50\n",
      "31/31 [==============================] - 218s 7s/step - loss: 0.3697 - val_loss: 0.4041\n",
      "Epoch 16/50\n",
      "31/31 [==============================] - 222s 7s/step - loss: 0.3557 - val_loss: 0.4103\n",
      "Epoch 17/50\n",
      "31/31 [==============================] - 220s 7s/step - loss: 0.3466 - val_loss: 0.3868\n",
      "Epoch 18/50\n",
      "31/31 [==============================] - 220s 7s/step - loss: 0.3317 - val_loss: 0.3866\n",
      "Epoch 19/50\n",
      "31/31 [==============================] - 221s 7s/step - loss: 0.3151 - val_loss: 0.4051\n",
      "Epoch 20/50\n",
      "31/31 [==============================] - 221s 7s/step - loss: 0.3087 - val_loss: 0.4131\n",
      "Epoch 21/50\n",
      "31/31 [==============================] - 222s 7s/step - loss: 0.3038 - val_loss: 0.4411\n"
     ]
    },
    {
     "data": {
      "text/plain": [
       "<tensorflow.python.keras.callbacks.History at 0x1f18c8b7580>"
      ]
     },
     "execution_count": 73,
     "metadata": {},
     "output_type": "execute_result"
    }
   ],
   "source": [
    "# A bidirectional LSTM with glove embeddings and two dense layers\n",
    "model = Sequential()\n",
    "model.add(Embedding(len(word_index) + 1,\n",
    "                     300,\n",
    "                     weights=[embedding_matrix],\n",
    "                     input_length=max_len,\n",
    "                     trainable=False))\n",
    "model.add(SpatialDropout1D(0.3))\n",
    "model.add(Bidirectional(LSTM(300, dropout=0.3, recurrent_dropout=0.3)))\n",
    "\n",
    "model.add(Dense(1024, activation='relu'))\n",
    "model.add(Dropout(0.8))\n",
    "\n",
    "model.add(Dense(1024, activation='relu'))\n",
    "model.add(Dropout(0.8))\n",
    "\n",
    "model.add(Dense(2))\n",
    "model.add(Activation('softmax'))\n",
    "model.compile(loss='binary_crossentropy', optimizer='adam')\n",
    "\n",
    "# Fit the model with early stopping callback\n",
    "earlystop = EarlyStopping(monitor='val_loss', min_delta=0, patience=3, verbose=0, mode='auto')\n",
    "model.fit(xtrain_pad, y=ytrain_enc, batch_size=512, epochs=50, \n",
    "          verbose=1, validation_data=(xvalid_pad, yvalid_enc), callbacks=[earlystop])"
   ]
  },
  {
   "cell_type": "code",
   "execution_count": 164,
   "metadata": {},
   "outputs": [
    {
     "name": "stdout",
     "output_type": "stream",
     "text": [
      "Epoch 1/50\n",
      "31/31 [==============================] - 181s 6s/step - loss: 0.7341 - val_loss: 0.6877\n",
      "Epoch 2/50\n",
      "31/31 [==============================] - 213s 7s/step - loss: 0.6937 - val_loss: 0.6842\n",
      "Epoch 3/50\n",
      "31/31 [==============================] - 202s 7s/step - loss: 0.6784 - val_loss: 0.6287\n",
      "Epoch 4/50\n",
      "31/31 [==============================] - 199s 6s/step - loss: 0.6381 - val_loss: 0.6363\n",
      "Epoch 5/50\n",
      "31/31 [==============================] - 203s 7s/step - loss: 0.5937 - val_loss: 0.5179\n",
      "Epoch 6/50\n",
      "31/31 [==============================] - 209s 7s/step - loss: 0.5487 - val_loss: 0.5148\n",
      "Epoch 7/50\n",
      "31/31 [==============================] - 205s 7s/step - loss: 0.5196 - val_loss: 0.4838\n",
      "Epoch 8/50\n",
      "31/31 [==============================] - 206s 7s/step - loss: 0.5109 - val_loss: 0.4649\n",
      "Epoch 9/50\n",
      "31/31 [==============================] - 207s 7s/step - loss: 0.4930 - val_loss: 0.4546\n",
      "Epoch 10/50\n",
      "31/31 [==============================] - 208s 7s/step - loss: 0.4859 - val_loss: 0.4494\n",
      "Epoch 11/50\n",
      "31/31 [==============================] - 208s 7s/step - loss: 0.4692 - val_loss: 0.4463\n",
      "Epoch 12/50\n",
      "31/31 [==============================] - 223s 7s/step - loss: 0.4551 - val_loss: 0.4331\n",
      "Epoch 13/50\n",
      "31/31 [==============================] - 215s 7s/step - loss: 0.4515 - val_loss: 0.4464\n",
      "Epoch 14/50\n",
      "31/31 [==============================] - 216s 7s/step - loss: 0.4301 - val_loss: 0.4158\n",
      "Epoch 15/50\n",
      "31/31 [==============================] - 219s 7s/step - loss: 0.4172 - val_loss: 0.3994\n",
      "Epoch 16/50\n",
      "31/31 [==============================] - 210s 7s/step - loss: 0.4050 - val_loss: 0.3976\n",
      "Epoch 17/50\n",
      "31/31 [==============================] - 210s 7s/step - loss: 0.3921 - val_loss: 0.3979\n",
      "Epoch 18/50\n",
      "31/31 [==============================] - 211s 7s/step - loss: 0.3955 - val_loss: 0.3916\n",
      "Epoch 19/50\n",
      "31/31 [==============================] - 211s 7s/step - loss: 0.3831 - val_loss: 0.3977\n",
      "Epoch 20/50\n",
      "31/31 [==============================] - 211s 7s/step - loss: 0.3740 - val_loss: 0.3941\n",
      "Epoch 21/50\n",
      "31/31 [==============================] - 215s 7s/step - loss: 0.3571 - val_loss: 0.4000\n"
     ]
    },
    {
     "data": {
      "text/plain": [
       "<tensorflow.python.keras.callbacks.History at 0x220ffcc0b80>"
      ]
     },
     "execution_count": 164,
     "metadata": {},
     "output_type": "execute_result"
    }
   ],
   "source": [
    "# A bidirectional LSTM with glove embeddings and three dense layers\n",
    "model = Sequential()\n",
    "model.add(Embedding(len(word_index) + 1,\n",
    "                     300,\n",
    "                     weights=[embedding_matrix],\n",
    "                     input_length=max_len,\n",
    "                     trainable=False))\n",
    "model.add(SpatialDropout1D(0.3))\n",
    "model.add(Bidirectional(LSTM(300, dropout=0.3, recurrent_dropout=0.3)))\n",
    "\n",
    "model.add(Dense(1024, activation='relu'))\n",
    "model.add(Dropout(0.8))\n",
    "\n",
    "model.add(Dense(512, activation='relu'))\n",
    "model.add(Dropout(0.8))\n",
    "\n",
    "model.add(Dense(256, activation='relu'))\n",
    "model.add(Dropout(0.8))\n",
    "\n",
    "model.add(Dense(2))\n",
    "model.add(Activation('softmax'))\n",
    "model.compile(loss='binary_crossentropy', optimizer='adam')\n",
    "\n",
    "# Fit the model with early stopping callback\n",
    "earlystop = EarlyStopping(monitor='val_loss', min_delta=0, patience=3, verbose=0, mode='auto')\n",
    "model.fit(xtrain_pad, y=ytrain_enc, batch_size=512, epochs=50, \n",
    "          verbose=1, validation_data=(xvalid_pad, yvalid_enc), callbacks=[earlystop])"
   ]
  },
  {
   "cell_type": "code",
   "execution_count": 165,
   "metadata": {},
   "outputs": [
    {
     "name": "stdout",
     "output_type": "stream",
     "text": [
      "Epoch 1/50\n",
      "31/31 [==============================] - 237s 8s/step - loss: 0.7264 - val_loss: 0.6906\n",
      "Epoch 2/50\n",
      "31/31 [==============================] - 239s 8s/step - loss: 0.6983 - val_loss: 0.6897\n",
      "Epoch 3/50\n",
      "31/31 [==============================] - 239s 8s/step - loss: 0.6865 - val_loss: 0.6885\n",
      "Epoch 4/50\n",
      "31/31 [==============================] - 242s 8s/step - loss: 0.6729 - val_loss: 0.6312\n",
      "Epoch 5/50\n",
      "31/31 [==============================] - 243s 8s/step - loss: 0.6126 - val_loss: 0.5258\n",
      "Epoch 6/50\n",
      "31/31 [==============================] - 244s 8s/step - loss: 0.5591 - val_loss: 0.4891\n",
      "Epoch 7/50\n",
      "31/31 [==============================] - 245s 8s/step - loss: 0.5309 - val_loss: 0.5021\n",
      "Epoch 8/50\n",
      "31/31 [==============================] - 244s 8s/step - loss: 0.5154 - val_loss: 0.4924\n",
      "Epoch 9/50\n",
      "31/31 [==============================] - 245s 8s/step - loss: 0.5038 - val_loss: 0.4989\n"
     ]
    },
    {
     "data": {
      "text/plain": [
       "<tensorflow.python.keras.callbacks.History at 0x220c5b550a0>"
      ]
     },
     "execution_count": 165,
     "metadata": {},
     "output_type": "execute_result"
    }
   ],
   "source": [
    "# A two-layer bidirectional LSTM with glove embeddings and three dense layers\n",
    "model = Sequential()\n",
    "model.add(Embedding(len(word_index) + 1,\n",
    "                     300,\n",
    "                     weights=[embedding_matrix],\n",
    "                     input_length=max_len,\n",
    "                     trainable=False))\n",
    "model.add(SpatialDropout1D(0.3))\n",
    "model.add(Bidirectional(LSTM(300, dropout=0.3, recurrent_dropout=0.3)))\n",
    "model.add(RepeatVector(2)) # Repeat Vector\n",
    "model.add(Bidirectional(LSTM(300, dropout=0.3, recurrent_dropout=0.3)))\n",
    "model.add(Dropout(0.8))\n",
    "\n",
    "model.add(Dense(1024, activation='relu'))\n",
    "model.add(Dropout(0.8))\n",
    "\n",
    "model.add(Dense(1024, activation='relu'))\n",
    "model.add(Dropout(0.8))\n",
    "\n",
    "model.add(Dense(512, activation='relu'))\n",
    "model.add(Dropout(0.8))\n",
    "\n",
    "model.add(Dense(2))\n",
    "model.add(Activation('softmax'))\n",
    "model.compile(loss='binary_crossentropy', optimizer='adam')\n",
    "\n",
    "# Fit the model with early stopping callback\n",
    "earlystop = EarlyStopping(monitor='val_loss', min_delta=0, patience=3, verbose=0, mode='auto')\n",
    "model.fit(xtrain_pad, y=ytrain_enc, batch_size=512, epochs=50, \n",
    "          verbose=1, validation_data=(xvalid_pad, yvalid_enc), callbacks=[earlystop])"
   ]
  },
  {
   "cell_type": "code",
   "execution_count": 166,
   "metadata": {},
   "outputs": [
    {
     "data": {
      "text/plain": [
       "'Pretty close! Lets try two layers of GRU:'"
      ]
     },
     "execution_count": 166,
     "metadata": {},
     "output_type": "execute_result"
    }
   ],
   "source": [
    "'''Pretty close! Lets try two layers of GRU:'''"
   ]
  },
  {
   "cell_type": "code",
   "execution_count": 167,
   "metadata": {},
   "outputs": [
    {
     "name": "stdout",
     "output_type": "stream",
     "text": [
      "Epoch 1/100\n",
      "31/31 [==============================] - 175s 6s/step - loss: 0.6771 - val_loss: 0.6027\n",
      "Epoch 2/100\n",
      "31/31 [==============================] - 173s 6s/step - loss: 0.6044 - val_loss: 0.5038\n",
      "Epoch 3/100\n",
      "31/31 [==============================] - 173s 6s/step - loss: 0.5476 - val_loss: 0.5081\n",
      "Epoch 4/100\n",
      "31/31 [==============================] - 172s 6s/step - loss: 0.5209 - val_loss: 0.4684\n",
      "Epoch 5/100\n",
      "31/31 [==============================] - 171s 6s/step - loss: 0.5039 - val_loss: 0.4781\n",
      "Epoch 6/100\n",
      "31/31 [==============================] - 171s 6s/step - loss: 0.4859 - val_loss: 0.4347\n",
      "Epoch 7/100\n",
      "31/31 [==============================] - 171s 6s/step - loss: 0.4612 - val_loss: 0.4226\n",
      "Epoch 8/100\n",
      "31/31 [==============================] - 171s 6s/step - loss: 0.4493 - val_loss: 0.4430\n",
      "Epoch 9/100\n",
      "31/31 [==============================] - 171s 6s/step - loss: 0.4489 - val_loss: 0.4428\n",
      "Epoch 10/100\n",
      "31/31 [==============================] - 171s 6s/step - loss: 0.4308 - val_loss: 0.4057\n",
      "Epoch 11/100\n",
      "31/31 [==============================] - 170s 5s/step - loss: 0.4139 - val_loss: 0.3951\n",
      "Epoch 12/100\n",
      "31/31 [==============================] - 170s 5s/step - loss: 0.4094 - val_loss: 0.4277\n",
      "Epoch 13/100\n",
      "31/31 [==============================] - 170s 5s/step - loss: 0.3992 - val_loss: 0.3901\n",
      "Epoch 14/100\n",
      "31/31 [==============================] - 170s 5s/step - loss: 0.3865 - val_loss: 0.3840\n",
      "Epoch 15/100\n",
      "31/31 [==============================] - 170s 5s/step - loss: 0.3837 - val_loss: 0.3991\n",
      "Epoch 16/100\n",
      "31/31 [==============================] - 171s 6s/step - loss: 0.3774 - val_loss: 0.3822\n",
      "Epoch 17/100\n",
      "31/31 [==============================] - 171s 6s/step - loss: 0.3654 - val_loss: 0.3897\n",
      "Epoch 18/100\n",
      "31/31 [==============================] - 170s 5s/step - loss: 0.3556 - val_loss: 0.3882\n",
      "Epoch 19/100\n",
      "31/31 [==============================] - 170s 5s/step - loss: 0.3460 - val_loss: 0.3976\n"
     ]
    },
    {
     "data": {
      "text/plain": [
       "<tensorflow.python.keras.callbacks.History at 0x221e359fee0>"
      ]
     },
     "execution_count": 167,
     "metadata": {},
     "output_type": "execute_result"
    }
   ],
   "source": [
    "# Two layer GRU with glove embeddings and two dense layers\n",
    "model = Sequential()\n",
    "model.add(Embedding(len(word_index) + 1,\n",
    "                     300,\n",
    "                     weights=[embedding_matrix],\n",
    "                     input_length=max_len,\n",
    "                     trainable=False))\n",
    "model.add(SpatialDropout1D(0.3))\n",
    "model.add(GRU(300, dropout=0.3, recurrent_dropout=0.3, return_sequences=True))\n",
    "model.add(GRU(300, dropout=0.3, recurrent_dropout=0.3))\n",
    "\n",
    "model.add(Dense(1024, activation='relu'))\n",
    "model.add(Dropout(0.8))\n",
    "\n",
    "model.add(Dense(1024, activation='relu'))\n",
    "model.add(Dropout(0.8))\n",
    "\n",
    "model.add(Dense(2))\n",
    "model.add(Activation('softmax'))\n",
    "model.compile(loss='binary_crossentropy', optimizer='adam')\n",
    "\n",
    "# Fit the model with early stopping callback\n",
    "earlystop = EarlyStopping(monitor='val_loss', min_delta=0, patience=3, verbose=0, mode='auto')\n",
    "model.fit(xtrain_pad, y=ytrain_enc, batch_size=512, epochs=100, \n",
    "          verbose=1, validation_data=(xvalid_pad, yvalid_enc), callbacks=[earlystop])"
   ]
  },
  {
   "cell_type": "code",
   "execution_count": 168,
   "metadata": {},
   "outputs": [
    {
     "name": "stdout",
     "output_type": "stream",
     "text": [
      "Epoch 1/100\n",
      "31/31 [==============================] - 171s 6s/step - loss: 0.6814 - val_loss: 0.6107\n",
      "Epoch 2/100\n",
      "31/31 [==============================] - 170s 5s/step - loss: 0.6104 - val_loss: 0.5723\n",
      "Epoch 3/100\n",
      "31/31 [==============================] - 170s 5s/step - loss: 0.5669 - val_loss: 0.5317\n",
      "Epoch 4/100\n",
      "31/31 [==============================] - 169s 5s/step - loss: 0.5220 - val_loss: 0.4677\n",
      "Epoch 5/100\n",
      "31/31 [==============================] - 170s 5s/step - loss: 0.4930 - val_loss: 0.4536\n",
      "Epoch 6/100\n",
      "31/31 [==============================] - 169s 5s/step - loss: 0.4650 - val_loss: 0.4352\n",
      "Epoch 7/100\n",
      "31/31 [==============================] - 169s 5s/step - loss: 0.4677 - val_loss: 0.4320\n",
      "Epoch 8/100\n",
      "31/31 [==============================] - 171s 6s/step - loss: 0.4421 - val_loss: 0.4148\n",
      "Epoch 9/100\n",
      "31/31 [==============================] - 169s 5s/step - loss: 0.4331 - val_loss: 0.4236\n",
      "Epoch 10/100\n",
      "31/31 [==============================] - 169s 5s/step - loss: 0.4279 - val_loss: 0.4225\n",
      "Epoch 11/100\n",
      "31/31 [==============================] - 168s 5s/step - loss: 0.4150 - val_loss: 0.4125\n",
      "Epoch 12/100\n",
      "31/31 [==============================] - 169s 5s/step - loss: 0.4085 - val_loss: 0.3922\n",
      "Epoch 13/100\n",
      "31/31 [==============================] - 168s 5s/step - loss: 0.4045 - val_loss: 0.4088\n",
      "Epoch 14/100\n",
      "31/31 [==============================] - 168s 5s/step - loss: 0.3964 - val_loss: 0.4024\n",
      "Epoch 15/100\n",
      "31/31 [==============================] - 169s 5s/step - loss: 0.3812 - val_loss: 0.3874\n",
      "Epoch 16/100\n",
      "31/31 [==============================] - 168s 5s/step - loss: 0.3710 - val_loss: 0.3849\n",
      "Epoch 17/100\n",
      "31/31 [==============================] - 169s 5s/step - loss: 0.3635 - val_loss: 0.3873\n",
      "Epoch 18/100\n",
      "31/31 [==============================] - 169s 5s/step - loss: 0.3482 - val_loss: 0.4197\n",
      "Epoch 19/100\n",
      "31/31 [==============================] - 169s 5s/step - loss: 0.3523 - val_loss: 0.3862\n"
     ]
    },
    {
     "data": {
      "text/plain": [
       "<tensorflow.python.keras.callbacks.History at 0x22217d4fa30>"
      ]
     },
     "execution_count": 168,
     "metadata": {},
     "output_type": "execute_result"
    }
   ],
   "source": [
    "# Two layer GRU with glove embeddings and three dense layers\n",
    "model = Sequential()\n",
    "model.add(Embedding(len(word_index) + 1,\n",
    "                     300,\n",
    "                     weights=[embedding_matrix],\n",
    "                     input_length=max_len,\n",
    "                     trainable=False))\n",
    "model.add(SpatialDropout1D(0.3))\n",
    "model.add(GRU(300, dropout=0.3, recurrent_dropout=0.3, return_sequences=True))\n",
    "model.add(GRU(300, dropout=0.3, recurrent_dropout=0.3))\n",
    "\n",
    "model.add(Dense(1024, activation='relu'))\n",
    "model.add(Dropout(0.8))\n",
    "\n",
    "model.add(Dense(1024, activation='relu'))\n",
    "model.add(Dropout(0.8))\n",
    "\n",
    "model.add(Dense(2))\n",
    "model.add(Activation('softmax'))\n",
    "model.compile(loss='binary_crossentropy', optimizer='adam')\n",
    "\n",
    "# Fit the model with early stopping callback\n",
    "earlystop = EarlyStopping(monitor='val_loss', min_delta=0, patience=3, verbose=0, mode='auto')\n",
    "model.fit(xtrain_pad, y=ytrain_enc, batch_size=512, epochs=100, \n",
    "          verbose=1, validation_data=(xvalid_pad, yvalid_enc), callbacks=[earlystop])"
   ]
  },
  {
   "cell_type": "code",
   "execution_count": null,
   "metadata": {},
   "outputs": [
    {
     "name": "stdout",
     "output_type": "stream",
     "text": [
      "Epoch 1/100\n",
      "31/31 [==============================] - 755s 24s/step - loss: 0.6975 - val_loss: 0.6003 - ETA: 4:35 - loss: 0.71 - ETA: 4:04 -\n",
      "Epoch 2/100\n",
      "31/31 [==============================] - 455s 15s/step - loss: 0.6007 - val_loss: 0.5573\n",
      "Epoch 3/100\n",
      "31/31 [==============================] - 449s 14s/step - loss: 0.5553 - val_loss: 0.5212\n",
      "Epoch 4/100\n",
      "31/31 [==============================] - 454s 15s/step - loss: 0.5183 - val_loss: 0.4631\n",
      "Epoch 5/100\n",
      "31/31 [==============================] - 457s 15s/step - loss: 0.4892 - val_loss: 0.4591\n",
      "Epoch 6/100\n",
      "31/31 [==============================] - 461s 15s/step - loss: 0.4758 - val_loss: 0.4313\n",
      "Epoch 7/100\n",
      "31/31 [==============================] - 473s 15s/step - loss: 0.4585 - val_loss: 0.4284\n",
      "Epoch 8/100\n",
      "31/31 [==============================] - 474s 15s/step - loss: 0.4452 - val_loss: 0.4274\n",
      "Epoch 9/100\n",
      "31/31 [==============================] - 470s 15s/step - loss: 0.4270 - val_loss: 0.4120\n",
      "Epoch 10/100\n",
      "31/31 [==============================] - 475s 15s/step - loss: 0.4199 - val_loss: 0.4117\n",
      "Epoch 11/100\n",
      "31/31 [==============================] - 479s 15s/step - loss: 0.4029 - val_loss: 0.4135\n",
      "Epoch 12/100\n",
      "31/31 [==============================] - 478s 15s/step - loss: 0.3977 - val_loss: 0.4082\n",
      "Epoch 13/100\n",
      "31/31 [==============================] - 485s 16s/step - loss: 0.3934 - val_loss: 0.4109\n",
      "Epoch 14/100\n",
      "31/31 [==============================] - 491s 16s/step - loss: 0.3867 - val_loss: 0.4050\n",
      "Epoch 15/100\n",
      "31/31 [==============================] - 493s 16s/step - loss: 0.3618 - val_loss: 0.3839\n",
      "Epoch 16/100\n",
      "31/31 [==============================] - 498s 16s/step - loss: 0.3469 - val_loss: 0.3803\n",
      "Epoch 17/100\n",
      "31/31 [==============================] - 501s 16s/step - loss: 0.3531 - val_loss: 0.3770\n",
      "Epoch 18/100\n",
      "31/31 [==============================] - 501s 16s/step - loss: 0.3318 - val_loss: 0.3717\n",
      "Epoch 19/100\n",
      "31/31 [==============================] - 507s 16s/step - loss: 0.3340 - val_loss: 0.3759\n",
      "Epoch 20/100\n",
      "31/31 [==============================] - 506s 16s/step - loss: 0.3114 - val_loss: 0.3864\n",
      "Epoch 21/100\n",
      "17/31 [===============>..............] - ETA: 3:40 - loss: 0.3013"
     ]
    }
   ],
   "source": [
    "# 2-layer Bidirectional GRU with glove embeddings and two dense layers\n",
    "model = Sequential()\n",
    "model.add(Embedding(len(word_index) + 1,\n",
    "                     300,\n",
    "                     weights=[embedding_matrix],\n",
    "                     input_length=max_len,\n",
    "                     trainable=False))\n",
    "model.add(SpatialDropout1D(0.3))\n",
    "model.add(Bidirectional(GRU(300, dropout=0.3, recurrent_dropout=0.3, return_sequences=True)))\n",
    "#model.add(RepeatVector(2)) # Repeat Vector\n",
    "model.add(Bidirectional(GRU(300, dropout=0.3, recurrent_dropout=0.3)))\n",
    "\n",
    "model.add(Dense(1024, activation='relu'))\n",
    "model.add(Dropout(0.8))\n",
    "\n",
    "model.add(Dense(1024, activation='relu'))\n",
    "model.add(Dropout(0.8))\n",
    "\n",
    "model.add(Dense(2))\n",
    "model.add(Activation('softmax'))\n",
    "model.compile(loss='binary_crossentropy', optimizer='adam')\n",
    "\n",
    "# Fit the model with early stopping callback\n",
    "earlystop = EarlyStopping(monitor='val_loss', min_delta=0, patience=3, verbose=0, mode='auto')\n",
    "model.fit(xtrain_pad, y=ytrain_enc, batch_size=512, epochs=100, \n",
    "          verbose=1, validation_data=(xvalid_pad, yvalid_enc), callbacks=[earlystop])"
   ]
  },
  {
   "cell_type": "code",
   "execution_count": null,
   "metadata": {},
   "outputs": [],
   "source": [
    "# single Bidirectional GRU with glove embeddings and four dense layers\n",
    "model = Sequential()\n",
    "model.add(Embedding(len(word_index) + 1,\n",
    "                     300,\n",
    "                     weights=[embedding_matrix],\n",
    "                     input_length=max_len,\n",
    "                     trainable=False))\n",
    "model.add(SpatialDropout1D(0.3))\n",
    "#model.add(Bidirectional(GRU(300, dropout=0.3, recurrent_dropout=0.3, return_sequences=True)))\n",
    "#model.add(RepeatVector(2)) # Repeat Vector\n",
    "model.add(Bidirectional(GRU(300, dropout=0.3, recurrent_dropout=0.3)))\n",
    "\n",
    "model.add(Dense(512, activation='relu'))\n",
    "model.add(Dropout(0.5))\n",
    "\n",
    "model.add(Dense(256, activation='relu'))\n",
    "model.add(Dropout(0.5))\n",
    "\n",
    "model.add(Dense(128, activation='relu'))\n",
    "model.add(Dropout(0.5))\n",
    "\n",
    "model.add(Dense(64, activation='relu'))\n",
    "model.add(Dropout(0.5))\n",
    "\n",
    "model.add(Dense(2))\n",
    "model.add(Activation('softmax'))\n",
    "model.compile(loss='binary_crossentropy', optimizer='adam')\n",
    "\n",
    "# Fit the model with early stopping callback\n",
    "earlystop = EarlyStopping(monitor='val_loss', min_delta=0, patience=3, verbose=0, mode='auto')\n",
    "model.fit(xtrain_pad, y=ytrain_enc, batch_size=512, epochs=100, \n",
    "          verbose=1, validation_data=(xvalid_pad, yvalid_enc), callbacks=[earlystop])"
   ]
  },
  {
   "cell_type": "code",
   "execution_count": null,
   "metadata": {},
   "outputs": [],
   "source": [
    "''' can improve these results even more.  consider stemming/lemmatization? '''\n",
    "\n",
    "'''NEXT: Put in Apache so we can parallel process\n",
    "Add other metrics\n",
    "\n",
    "Add most commonly occuring words in positive/negative reviews\n",
    "'''"
   ]
  },
  {
   "cell_type": "code",
   "execution_count": null,
   "metadata": {},
   "outputs": [],
   "source": [
    "# Ensembling (probably don't want to go this deep)"
   ]
  },
  {
   "cell_type": "code",
   "execution_count": null,
   "metadata": {},
   "outputs": [],
   "source": [
    "# # this is the main ensembling class. how to use it is in the next cell!\n",
    "# import numpy as np\n",
    "# from sklearn.metrics import roc_auc_score\n",
    "# from sklearn.preprocessing import LabelEncoder\n",
    "# from sklearn.model_selection import StratifiedKFold, KFold\n",
    "# import pandas as pd\n",
    "# import os\n",
    "# import sys\n",
    "# import logging\n",
    "\n",
    "# logging.basicConfig(\n",
    "#     level=logging.DEBUG,\n",
    "#     format=\"[%(asctime)s] %(levelname)s %(message)s\",\n",
    "#     datefmt=\"%H:%M:%S\", stream=sys.stdout)\n",
    "# logger = logging.getLogger(__name__)\n",
    "\n",
    "\n",
    "# class Ensembler(object):\n",
    "#     def __init__(self, model_dict, num_folds=3, task_type='classification', optimize=roc_auc_score,\n",
    "#                  lower_is_better=False, save_path=None):\n",
    "#         \"\"\"\n",
    "#         Ensembler init function\n",
    "#         :param model_dict: model dictionary, see README for its format\n",
    "#         :param num_folds: the number of folds for ensembling\n",
    "#         :param task_type: classification or regression\n",
    "#         :param optimize: the function to optimize for, e.g. AUC, logloss, etc. Must have two arguments y_test and y_pred\n",
    "#         :param lower_is_better: is lower value of optimization function better or higher\n",
    "#         :param save_path: path to which model pickles will be dumped to along with generated predictions, or None\n",
    "#         \"\"\"\n",
    "\n",
    "#         self.model_dict = model_dict\n",
    "#         self.levels = len(self.model_dict)\n",
    "#         self.num_folds = num_folds\n",
    "#         self.task_type = task_type\n",
    "#         self.optimize = optimize\n",
    "#         self.lower_is_better = lower_is_better\n",
    "#         self.save_path = save_path\n",
    "\n",
    "#         self.training_data = None\n",
    "#         self.test_data = None\n",
    "#         self.y = None\n",
    "#         self.lbl_enc = None\n",
    "#         self.y_enc = None\n",
    "#         self.train_prediction_dict = None\n",
    "#         self.test_prediction_dict = None\n",
    "#         self.num_classes = None\n",
    "\n",
    "#     def fit(self, training_data, y, lentrain):\n",
    "#         \"\"\"\n",
    "#         :param training_data: training data in tabular format\n",
    "#         :param y: binary, multi-class or regression\n",
    "#         :return: chain of models to be used in prediction\n",
    "#         \"\"\"\n",
    "\n",
    "#         self.training_data = training_data\n",
    "#         self.y = y\n",
    "\n",
    "#         if self.task_type == 'classification':\n",
    "#             self.num_classes = len(np.unique(self.y))\n",
    "#             logger.info(\"Found %d classes\", self.num_classes)\n",
    "#             self.lbl_enc = LabelEncoder()\n",
    "#             self.y_enc = self.lbl_enc.fit_transform(self.y)\n",
    "#             kf = StratifiedKFold(n_splits=self.num_folds)\n",
    "#             train_prediction_shape = (lentrain, self.num_classes)\n",
    "#         else:\n",
    "#             self.num_classes = -1\n",
    "#             self.y_enc = self.y\n",
    "#             kf = KFold(n_splits=self.num_folds)\n",
    "#             train_prediction_shape = (lentrain, 1)\n",
    "\n",
    "#         self.train_prediction_dict = {}\n",
    "#         for level in range(self.levels):\n",
    "#             self.train_prediction_dict[level] = np.zeros((train_prediction_shape[0],\n",
    "#                                                           train_prediction_shape[1] * len(self.model_dict[level])))\n",
    "\n",
    "#         for level in range(self.levels):\n",
    "\n",
    "#             if level == 0:\n",
    "#                 temp_train = self.training_data\n",
    "#             else:\n",
    "#                 temp_train = self.train_prediction_dict[level - 1]\n",
    "\n",
    "#             for model_num, model in enumerate(self.model_dict[level]):\n",
    "#                 validation_scores = []\n",
    "#                 foldnum = 1\n",
    "#                 for train_index, valid_index in kf.split(self.train_prediction_dict[0], self.y_enc):\n",
    "#                     logger.info(\"Training Level %d Fold # %d. Model # %d\", level, foldnum, model_num)\n",
    "\n",
    "#                     if level != 0:\n",
    "#                         l_training_data = temp_train[train_index]\n",
    "#                         l_validation_data = temp_train[valid_index]\n",
    "#                         model.fit(l_training_data, self.y_enc[train_index])\n",
    "#                     else:\n",
    "#                         l0_training_data = temp_train[0][model_num]\n",
    "#                         if type(l0_training_data) == list:\n",
    "#                             l_training_data = [x[train_index] for x in l0_training_data]\n",
    "#                             l_validation_data = [x[valid_index] for x in l0_training_data]\n",
    "#                         else:\n",
    "#                             l_training_data = l0_training_data[train_index]\n",
    "#                             l_validation_data = l0_training_data[valid_index]\n",
    "#                         model.fit(l_training_data, self.y_enc[train_index])\n",
    "\n",
    "#                     logger.info(\"Predicting Level %d. Fold # %d. Model # %d\", level, foldnum, model_num)\n",
    "\n",
    "#                     if self.task_type == 'classification':\n",
    "#                         temp_train_predictions = model.predict_proba(l_validation_data)\n",
    "#                         self.train_prediction_dict[level][valid_index,\n",
    "#                         (model_num * self.num_classes):(model_num * self.num_classes) +\n",
    "#                                                        self.num_classes] = temp_train_predictions\n",
    "\n",
    "#                     else:\n",
    "#                         temp_train_predictions = model.predict(l_validation_data)\n",
    "#                         self.train_prediction_dict[level][valid_index, model_num] = temp_train_predictions\n",
    "#                     validation_score = self.optimize(self.y_enc[valid_index], temp_train_predictions)\n",
    "#                     validation_scores.append(validation_score)\n",
    "#                     logger.info(\"Level %d. Fold # %d. Model # %d. Validation Score = %f\", level, foldnum, model_num,\n",
    "#                                 validation_score)\n",
    "#                     foldnum += 1\n",
    "#                 avg_score = np.mean(validation_scores)\n",
    "#                 std_score = np.std(validation_scores)\n",
    "#                 logger.info(\"Level %d. Model # %d. Mean Score = %f. Std Dev = %f\", level, model_num,\n",
    "#                             avg_score, std_score)\n",
    "\n",
    "#             logger.info(\"Saving predictions for level # %d\", level)\n",
    "#             train_predictions_df = pd.DataFrame(self.train_prediction_dict[level])\n",
    "#             train_predictions_df.to_csv(os.path.join(self.save_path, \"train_predictions_level_\" + str(level) + \".csv\"),\n",
    "#                                         index=False, header=None)\n",
    "\n",
    "#         return self.train_prediction_dict\n",
    "\n",
    "#     def predict(self, test_data, lentest):\n",
    "#         self.test_data = test_data\n",
    "#         if self.task_type == 'classification':\n",
    "#             test_prediction_shape = (lentest, self.num_classes)\n",
    "#         else:\n",
    "#             test_prediction_shape = (lentest, 1)\n",
    "\n",
    "#         self.test_prediction_dict = {}\n",
    "#         for level in range(self.levels):\n",
    "#             self.test_prediction_dict[level] = np.zeros((test_prediction_shape[0],\n",
    "#                                                          test_prediction_shape[1] * len(self.model_dict[level])))\n",
    "#         self.test_data = test_data\n",
    "#         for level in range(self.levels):\n",
    "#             if level == 0:\n",
    "#                 temp_train = self.training_data\n",
    "#                 temp_test = self.test_data\n",
    "#             else:\n",
    "#                 temp_train = self.train_prediction_dict[level - 1]\n",
    "#                 temp_test = self.test_prediction_dict[level - 1]\n",
    "\n",
    "#             for model_num, model in enumerate(self.model_dict[level]):\n",
    "\n",
    "#                 logger.info(\"Training Fulldata Level %d. Model # %d\", level, model_num)\n",
    "#                 if level == 0:\n",
    "#                     model.fit(temp_train[0][model_num], self.y_enc)\n",
    "#                 else:\n",
    "#                     model.fit(temp_train, self.y_enc)\n",
    "\n",
    "#                 logger.info(\"Predicting Test Level %d. Model # %d\", level, model_num)\n",
    "\n",
    "#                 if self.task_type == 'classification':\n",
    "#                     if level == 0:\n",
    "#                         temp_test_predictions = model.predict_proba(temp_test[0][model_num])\n",
    "#                     else:\n",
    "#                         temp_test_predictions = model.predict_proba(temp_test)\n",
    "#                     self.test_prediction_dict[level][:, (model_num * self.num_classes): (model_num * self.num_classes) +\n",
    "#                                                                                         self.num_classes] = temp_test_predictions\n",
    "\n",
    "#                 else:\n",
    "#                     if level == 0:\n",
    "#                         temp_test_predictions = model.predict(temp_test[0][model_num])\n",
    "#                     else:\n",
    "#                         temp_test_predictions = model.predict(temp_test)\n",
    "#                     self.test_prediction_dict[level][:, model_num] = temp_test_predictions\n",
    "\n",
    "#             test_predictions_df = pd.DataFrame(self.test_prediction_dict[level])\n",
    "#             test_predictions_df.to_csv(os.path.join(self.save_path, \"test_predictions_level_\" + str(level) + \".csv\"),\n",
    "#                                        index=False, header=None)\n",
    "\n",
    "#         return self.test_prediction_dict"
   ]
  },
  {
   "cell_type": "code",
   "execution_count": null,
   "metadata": {},
   "outputs": [],
   "source": [
    "# # specify the data to be used for every level of ensembling:\n",
    "# train_data_dict = {0: [xtrain_tfv, xtrain_ctv, xtrain_tfv, xtrain_ctv], 1: [xtrain_glove]}\n",
    "# test_data_dict = {0: [xvalid_tfv, xvalid_ctv, xvalid_tfv, xvalid_ctv], 1: [xvalid_glove]}\n",
    "\n",
    "# model_dict = {0: [LogisticRegression(), LogisticRegression(), MultinomialNB(alpha=0.1), MultinomialNB()],\n",
    "\n",
    "#               1: [xgb.XGBClassifier(silent=True, n_estimators=120, max_depth=7)]}\n",
    "\n",
    "# ens = Ensembler(model_dict=model_dict, num_folds=3, task_type='classification',\n",
    "#                 optimize=multiclass_logloss, lower_is_better=True, save_path='')\n",
    "\n",
    "# ens.fit(train_data_dict, ytrain, lentrain=xtrain_glove.shape[0])\n",
    "# preds = ens.predict(test_data_dict, lentest=xvalid_glove.shape[0])"
   ]
  },
  {
   "cell_type": "code",
   "execution_count": null,
   "metadata": {},
   "outputs": [],
   "source": [
    "#log_loss(yvalid, preds[1])"
   ]
  },
  {
   "cell_type": "code",
   "execution_count": null,
   "metadata": {},
   "outputs": [],
   "source": [
    "#set up apache spark system to do parallel processing?\n",
    "#maybe Try to set up amazon resources - possibly overkill/not good for github\n",
    "## see recommendation systems section - this isn't actually directly applicable - more for recs for a user based on other user's recs\n",
    "# topic 39 - nlp obvs\n",
    "#tf-idfs?\n",
    "#nnetworks with\n",
    "# word2vec (including gensim) see https://learning.flatironschool.com/courses/1890/pages/using-word2vec?module_item_id=261958\n",
    "#GloVe for classification - (This is a very good pretrained model)\n",
    "# word embeddings, \n",
    "#sequence models e.g. \n",
    "#RNN and \n",
    "#lstms, \n",
    "#grus, \n",
    "#gridsearch for best params,\n",
    "#ensemble methods - e.g. xgboost on these models\n",
    "#anything else that is in \n",
    "# https://www.kaggle.com/code/abhishek/approaching-almost-any-nlp-problem-on-kaggle/comments\n",
    "'''tfidf\n",
    "count features\n",
    "logistic regression\n",
    "naive bayes\n",
    "svm\n",
    "xgboost\n",
    "grid search\n",
    "word vectors\n",
    "LSTM\n",
    "GRU\n",
    "Ensembling'''\n",
    "\n"
   ]
  },
  {
   "cell_type": "code",
   "execution_count": null,
   "metadata": {},
   "outputs": [],
   "source": []
  }
 ],
 "metadata": {
  "kernelspec": {
   "display_name": "Python [conda env:learn-env]",
   "language": "python",
   "name": "conda-env-learn-env-py"
  },
  "language_info": {
   "codemirror_mode": {
    "name": "ipython",
    "version": 3
   },
   "file_extension": ".py",
   "mimetype": "text/x-python",
   "name": "python",
   "nbconvert_exporter": "python",
   "pygments_lexer": "ipython3",
   "version": "3.8.5"
  }
 },
 "nbformat": 4,
 "nbformat_minor": 4
}
